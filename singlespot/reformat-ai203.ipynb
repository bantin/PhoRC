{
 "cells": [
  {
   "cell_type": "code",
   "execution_count": 1,
   "metadata": {},
   "outputs": [],
   "source": [
    "import numpy as np\n",
    "import glob\n",
    "import os"
   ]
  },
  {
   "cell_type": "code",
   "execution_count": 2,
   "metadata": {},
   "outputs": [
    {
     "data": {
      "text/plain": [
       "['/home/ba2617/blind_mapping/blind_maps/201119_cell2_A_45ms_trial_denoised.npz.npy',\n",
       " '/home/ba2617/blind_mapping/blind_maps/201121_cell1_A_45ms_trial_denoised.npz.npy',\n",
       " '/home/ba2617/blind_mapping/blind_maps/201118_cell1_A_45ms_trial_denoised.npz.npy',\n",
       " '/home/ba2617/blind_mapping/blind_maps/201119_cell7_A_45ms_trial_denoised.npz.npy']"
      ]
     },
     "execution_count": 2,
     "metadata": {},
     "output_type": "execute_result"
    }
   ],
   "source": [
    "filenames = glob.glob(\"/home/ba2617/blind_mapping/blind_maps/*.npz.npy\")\n",
    "filenames"
   ]
  },
  {
   "cell_type": "code",
   "execution_count": 3,
   "metadata": {},
   "outputs": [
    {
     "name": "stdout",
     "output_type": "stream",
     "text": [
      "saved dictionary to ./preprocessed_singlespot/201119_cell2_A\n",
      "saved dictionary to ./preprocessed_singlespot/201121_cell1_A\n",
      "saved dictionary to ./preprocessed_singlespot/201118_cell1_A\n",
      "saved dictionary to ./preprocessed_singlespot/201119_cell7_A\n"
     ]
    }
   ],
   "source": [
    "outpath = \"./preprocessed_singlespot/\"\n",
    "for file in filenames:\n",
    "    d = np.load(file, allow_pickle=True).item()\n",
    "    d_new = dict()\n",
    "    dset_name = os.path.basename(file)[:-28]\n",
    "    outfile = os.path.join(outpath, dset_name)\n",
    "    with open(outfile + '.npz', 'wb') as f:\n",
    "        np.savez_compressed(outfile, I=d['I'], L=d['L'], psc=d['psc'])\n",
    "    print('saved dictionary to %s' % outfile)"
   ]
  },
  {
   "cell_type": "code",
   "execution_count": 8,
   "metadata": {},
   "outputs": [],
   "source": [
    "d1 = dict(I=2, J=3)\n",
    "a = np.zeros(3)\n",
    "results = dict(d1=d1,a=a)"
   ]
  },
  {
   "cell_type": "code",
   "execution_count": 13,
   "metadata": {},
   "outputs": [],
   "source": [
    "np.savez_compressed('test.npz', **results)"
   ]
  },
  {
   "cell_type": "code",
   "execution_count": 16,
   "metadata": {},
   "outputs": [],
   "source": [
    "r = np.load('test.npz', allow_pickle=True)"
   ]
  },
  {
   "cell_type": "code",
   "execution_count": 18,
   "metadata": {},
   "outputs": [
    {
     "data": {
      "text/plain": [
       "array([0., 0., 0.])"
      ]
     },
     "execution_count": 18,
     "metadata": {},
     "output_type": "execute_result"
    }
   ],
   "source": [
    "r['a']"
   ]
  },
  {
   "cell_type": "code",
   "execution_count": null,
   "metadata": {},
   "outputs": [],
   "source": []
  }
 ],
 "metadata": {
  "kernelspec": {
   "display_name": "Python [conda env:.conda-jax_env]",
   "language": "python",
   "name": "conda-env-.conda-jax_env-py"
  },
  "language_info": {
   "codemirror_mode": {
    "name": "ipython",
    "version": 3
   },
   "file_extension": ".py",
   "mimetype": "text/x-python",
   "name": "python",
   "nbconvert_exporter": "python",
   "pygments_lexer": "ipython3",
   "version": "3.9.6"
  }
 },
 "nbformat": 4,
 "nbformat_minor": 2
}
