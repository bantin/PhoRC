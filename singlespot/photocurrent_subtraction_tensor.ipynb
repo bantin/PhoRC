{
 "cells": [
  {
   "cell_type": "code",
   "execution_count": 7,
   "metadata": {
    "lines_to_next_cell": 1
   },
   "outputs": [],
   "source": [
    "import numpy as np\n",
    "from mpl_toolkits.axes_grid1 import ImageGrid\n",
    "import matplotlib.pyplot as plt\n",
    "\n",
    "import sys\n",
    "sys.path.append('../')\n",
    "import grid_utils as grid_util\n",
    "import grid as stimgrid"
   ]
  },
  {
   "cell_type": "code",
   "execution_count": 11,
   "metadata": {},
   "outputs": [],
   "source": [
    "# load data\n",
    "data_path = 'preprocessed_singlespot/201118_cell1_A.npz'\n",
    "dat = np.load(data_path)\n",
    "psc, I, L = dat['psc'], dat['I'], dat['L']\n",
    "y_raw = psc.sum(1)"
   ]
  },
  {
   "cell_type": "code",
   "execution_count": 12,
   "metadata": {},
   "outputs": [
    {
     "data": {
      "text/plain": [
       "array([50., 70.])"
      ]
     },
     "execution_count": 12,
     "metadata": {},
     "output_type": "execute_result"
    }
   ],
   "source": [
    "np.unique(I)"
   ]
  },
  {
   "cell_type": "code",
   "execution_count": 13,
   "metadata": {},
   "outputs": [],
   "source": [
    "stacked_psc, num_stims = grid_util.stack_observations_in_grid(psc, I, L)\n",
    "mean_map, _, _ = grid_util.make_suff_stats(y_raw, I, L)"
   ]
  },
  {
   "cell_type": "code",
   "execution_count": 14,
   "metadata": {},
   "outputs": [
    {
     "data": {
      "text/plain": [
       "<matplotlib.image.AxesImage at 0x7fd098c877d0>"
      ]
     },
     "execution_count": 14,
     "metadata": {},
     "output_type": "execute_result"
    },
    {
     "data": {
      "image/png": "[encoded data removed]",
      "text/plain": [
       "<Figure size 432x288 with 1 Axes>"
      ]
     },
     "metadata": {
      "needs_background": "light"
     },
     "output_type": "display_data"
    }
   ],
   "source": [
    "plt.imshow(mean_map[-1,:,:,3], origin='lower', vmin=0, vmax=15, cmap='magma')"
   ]
  },
  {
   "cell_type": "code",
   "execution_count": 15,
   "metadata": {},
   "outputs": [
    {
     "data": {
      "text/plain": [
       "<Figure size 900x1500 with 0 Axes>"
      ]
     },
     "metadata": {},
     "output_type": "display_data"
    }
   ],
   "source": [
    "plot_kwargs = {'cmap':'magma'}\n",
    "fig = plt.figure(figsize=(3, 5), dpi=300, facecolor='white')"
   ]
  },
  {
   "cell_type": "code",
   "execution_count": null,
   "metadata": {
    "lines_to_next_cell": 1
   },
   "outputs": [],
   "source": [
    "grid_util.plot_multi_means(fig,\n",
    "    [mean_map], np.arange(5),\n",
    "    map_names=['raw', ],\n",
    "    cmaps=['magma',],\n",
    "    cbar_labels=['EPSQ (nC)',],\n",
    "    vranges=[(0,10)],\n",
    "    powers=np.unique(I))"
   ]
  },
  {
   "cell_type": "code",
   "execution_count": null,
   "metadata": {
    "lines_to_next_cell": 1
   },
   "outputs": [],
   "source": [
    "def sequential_map(vals):\n",
    "    uniques = sorted(np.unique(vals))\n",
    "    return {x: range(len(uniques))[i] for i,x in enumerate(uniques)}"
   ]
  },
  {
   "cell_type": "code",
   "execution_count": null,
   "metadata": {
    "lines_to_next_cell": 1
   },
   "outputs": [],
   "source": [
    "def extract_roi(ps, xs, ys, zs, psc_tensor):\n",
    "    P, X, Y, Z = np.meshgrid(ps, xs, ys, zs, indexing='ij')    \n",
    "    return psc_tensor[P, X, Y, Z]"
   ]
  },
  {
   "cell_type": "code",
   "execution_count": null,
   "metadata": {},
   "outputs": [],
   "source": [
    "ps = np.arange(3)\n",
    "xs = np.arange(6,25)\n",
    "ys = np.arange(7,21)\n",
    "zs = np.arange(5)\n",
    "P, X, Y, Z = np.meshgrid(ps, xs, ys, zs, indexing='ij')"
   ]
  },
  {
   "cell_type": "code",
   "execution_count": null,
   "metadata": {},
   "outputs": [],
   "source": [
    "psc_tensor = grid_util.make_psc_tensor(psc, I, L)\n",
    "roi_tensor = extract_roi(ps, xs, ys, zs, psc_tensor)\n",
    "roi_mean_map = np.nanmean(np.nansum(roi_tensor, axis=-1), axis=-1)"
   ]
  },
  {
   "cell_type": "code",
   "execution_count": null,
   "metadata": {},
   "outputs": [],
   "source": [
    "plot_kwargs = {'cmap':'magma'}\n",
    "fig = plt.figure(figsize=(3, 5), dpi=300, facecolor='white')"
   ]
  },
  {
   "cell_type": "code",
   "execution_count": null,
   "metadata": {},
   "outputs": [],
   "source": [
    "grid_util.plot_multi_means(fig,\n",
    "    [roi_mean_map], np.arange(5),\n",
    "    map_names=['raw', ],\n",
    "    cmaps=['magma',],\n",
    "    vranges=[(-1.0, 10.0)])"
   ]
  },
  {
   "cell_type": "code",
   "execution_count": null,
   "metadata": {},
   "outputs": [],
   "source": [
    "roi_tensor.shape"
   ]
  },
  {
   "cell_type": "code",
   "execution_count": null,
   "metadata": {},
   "outputs": [],
   "source": [
    "from tensorly.decomposition import parafac, non_negative_parafac\n",
    "import tensorly as tl"
   ]
  },
  {
   "cell_type": "code",
   "execution_count": null,
   "metadata": {},
   "outputs": [],
   "source": [
    "def estimate_photocurrents(roi_tensor, separate_by_powers=True, rank=1, l2_reg=0.0):\n",
    "    npowers, nx, ny, nz, ntrials, ntimesteps = roi_tensor.shape\n",
    "\n",
    "\n",
    "    subtracted = np.copy(roi_tensor)\n",
    "    full_est = np.copy(roi_tensor)\n",
    "    \n",
    "    for z_idx in range(nz):\n",
    "\n",
    "        for power_idx in range(npowers):\n",
    "\n",
    "            # extract current tensor we're working with. Different powers\n",
    "            # can have different numbers of trials, which are marked by np.nan\n",
    "            try:\n",
    "                ntrials_curr = np.where(np.isnan(roi_tensor[power_idx, 0, 0, 0, :, 0]))[0][0]\n",
    "            except IndexError:\n",
    "                ntrials_curr = ntrials\n",
    "\n",
    "            # This forms an index to extract a particular (power, trials, plane) combination\n",
    "            _slice = np.s_[power_idx, :, :, z_idx, 0:ntrials_curr, :]\n",
    "            \n",
    "            tensor_curr = roi_tensor[_slice].reshape(-1, ntrials_curr, ntimesteps)\n",
    "\n",
    "            # form rank1 approx and subtract\n",
    "            cptensor = non_negative_parafac(np.maximum(tensor_curr, 0),\n",
    "                               rank=rank,)\n",
    "\n",
    "            est = tl.cp_to_tensor(cptensor).reshape(nx, ny, ntrials_curr, ntimesteps)\n",
    "            subtracted[_slice] = roi_tensor[_slice] - est\n",
    "            full_est[_slice] = est\n",
    "\n",
    "\n",
    "    return full_est, subtracted"
   ]
  },
  {
   "cell_type": "code",
   "execution_count": null,
   "metadata": {},
   "outputs": [],
   "source": [
    "    "
   ]
  },
  {
   "cell_type": "code",
   "execution_count": null,
   "metadata": {
    "lines_to_next_cell": 2
   },
   "outputs": [],
   "source": [
    "est, subtracted = estimate_photocurrents(roi_tensor,\n",
    "                                         separate_by_powers=True, l2_reg=1, rank=1)"
   ]
  },
  {
   "cell_type": "code",
   "execution_count": null,
   "metadata": {},
   "outputs": [],
   "source": [
    "# place ROI back into grid\n",
    "psc_tensor_corrected = np.copy(psc_tensor)\n",
    "psc_tensor_corrected[P, X, Y, Z] = subtracted"
   ]
  },
  {
   "cell_type": "code",
   "execution_count": null,
   "metadata": {},
   "outputs": [],
   "source": [
    "mean_map_subtracted = np.nanmean(np.nansum(psc_tensor_corrected, axis=-1), axis=-1)"
   ]
  },
  {
   "cell_type": "code",
   "execution_count": null,
   "metadata": {},
   "outputs": [],
   "source": [
    "fig = plt.figure(figsize=(8, 5), dpi=300, facecolor='white')"
   ]
  },
  {
   "cell_type": "code",
   "execution_count": null,
   "metadata": {},
   "outputs": [],
   "source": [
    "stacked = np.concatenate((mean_map, mean_map_subtracted), axis=3)\n",
    "grid_util.plot_multi_means(fig,\n",
    "    [mean_map, mean_map_subtracted], np.arange(5),\n",
    "    map_names=['raw', 'subtracted'],\n",
    "    cmaps=['magma', 'magma'],\n",
    "    cbar_labels=['EPSQ (nC)', 'EPSQ (nC)'],\n",
    "    vranges=[(-1,15), (-1,15)],\n",
    "    powers=np.unique(I),\n",
    "    )"
   ]
  },
  {
   "cell_type": "code",
   "execution_count": null,
   "metadata": {},
   "outputs": [],
   "source": [
    "est.shape"
   ]
  },
  {
   "cell_type": "code",
   "execution_count": null,
   "metadata": {},
   "outputs": [],
   "source": [
    "est.shape"
   ]
  },
  {
   "cell_type": "code",
   "execution_count": null,
   "metadata": {},
   "outputs": [],
   "source": [
    "num_trials"
   ]
  },
  {
   "cell_type": "code",
   "execution_count": null,
   "metadata": {},
   "outputs": [],
   "source": [
    "npowers, _, _, _, num_trials, timesteps = roi_tensor.shape"
   ]
  },
  {
   "cell_type": "code",
   "execution_count": null,
   "metadata": {},
   "outputs": [],
   "source": [
    "npowers, _, _, _, num_trials, timesteps = roi_tensor.shape\n",
    "npowers"
   ]
  },
  {
   "cell_type": "code",
   "execution_count": null,
   "metadata": {
    "lines_to_next_cell": 2
   },
   "outputs": [],
   "source": [
    "powers = np.unique(I)\n",
    "num_plots = 20\n",
    "fig, axs = plt.subplots(nrows=num_plots, ncols=3,\n",
    "                    figsize=(15,1 * num_plots), dpi=300,\n",
    "                    sharey=True, sharex=True, facecolor='white')"
   ]
  },
  {
   "cell_type": "code",
   "execution_count": null,
   "metadata": {
    "lines_to_next_cell": 2
   },
   "outputs": [],
   "source": [
    "for pidx in [0,1,2]:\n",
    "\n",
    "    est_traces = est[pidx,...].reshape(-1, num_trials, timesteps)\n",
    "    raw_traces = roi_tensor[pidx,...].reshape(-1, num_trials, timesteps)\n",
    "    sub_traces = subtracted[pidx,...].reshape(-1, num_trials, timesteps)\n",
    "\n",
    "    for i in range(num_plots):\n",
    "        trace_idx = order[i]\n",
    "\n",
    "        axs[i,pidx].plot(raw_traces[trace_idx].T, color=colors[r], alpha=0.9,linewidth=0.5)\n",
    "        axs[i,pidx].plot(est_traces[trace_idx].T, color=colors[r], alpha=0.9,linewidth=0.5)\n",
    "        axs[i,pidx].plot(sub_traces[trace_idx].T, color=colors[r], alpha=0.9,linewidth=0.5)\n",
    "\n",
    "        # plot initiation time of stim\n",
    "        for j in range(9):\n",
    "            plt.sca(axs[i,j])\n",
    "            plt.axvline(x=100, linestyle='-.', linewidth=0.5, alpha=0.8)\n",
    "\n",
    "    axs[0,pidx].set_title('raw \\n %.1f' % powers[pidx])\n",
    "    axs[0,pidx].set_title('est \\n %.1f' % powers[pidx])\n",
    "    axs[0,pidx].set_title('subtracted \\n %.1f' % powers[pidx])"
   ]
  },
  {
   "cell_type": "code",
   "execution_count": null,
   "metadata": {
    "lines_to_next_cell": 2
   },
   "outputs": [],
   "source": [
    "order = np.argsort(np.nansum(roi_tensor[-1,...].reshape(-1, num_trials, timesteps), axis=-1))\n",
    "powers = np.unique(I)\n",
    "num_plots = 20\n",
    "fig, axs = plt.subplots(nrows=num_plots, ncols=3,\n",
    "                    figsize=(15,1 * num_plots), dpi=300,\n",
    "                    sharey=True, sharex=True, facecolor='white')"
   ]
  },
  {
   "cell_type": "code",
   "execution_count": null,
   "metadata": {
    "lines_to_next_cell": 2
   },
   "outputs": [],
   "source": [
    "for pidx in [0,1,2]:\n",
    "\n",
    "    est_traces = est[pidx,...].reshape(-1, num_trials, timesteps)\n",
    "    raw_traces = roi_tensor[pidx,...].reshape(-1, num_trials, timesteps)\n",
    "    sub_traces = subtracted[pidx,...].reshape(-1, num_trials, timesteps)\n",
    "\n",
    "    for i in range(num_plots):\n",
    "        trace_idx = order[i]\n",
    "\n",
    "        axs[i,pidx].plot(raw_traces[trace_idx].T, color=colors[r], alpha=0.9,linewidth=0.5)\n",
    "        axs[i,pidx].plot(est_traces[trace_idx].T, color=colors[r], alpha=0.9,linewidth=0.5)\n",
    "        axs[i,pidx].plot(sub_traces[trace_idx].T, color=colors[r], alpha=0.9,linewidth=0.5)\n",
    "\n",
    "        # plot initiation time of stim\n",
    "        for j in range(9):\n",
    "            plt.sca(axs[i,j])\n",
    "            plt.axvline(x=100, linestyle='-.', linewidth=0.5, alpha=0.8)\n",
    "\n",
    "    axs[0,pidx].set_title('raw \\n %.1f' % powers[pidx])\n",
    "    axs[0,pidx].set_title('est \\n %.1f' % powers[pidx])\n",
    "    axs[0,pidx].set_title('subtracted \\n %.1f' % powers[pidx])"
   ]
  },
  {
   "cell_type": "code",
   "execution_count": null,
   "metadata": {
    "lines_to_next_cell": 2
   },
   "outputs": [],
   "source": [
    "order = np.argsort(np.nansum(roi_tensor[-1,...].reshape(-1, num_trials, timesteps), axis=-1))\n",
    "powers = np.unique(I)\n",
    "num_plots = 20\n",
    "fig, axs = plt.subplots(nrows=num_plots, ncols=3,\n",
    "                    figsize=(15,1 * num_plots), dpi=300,\n",
    "                    sharey=True, sharex=True, facecolor='white')"
   ]
  },
  {
   "cell_type": "code",
   "execution_count": null,
   "metadata": {
    "lines_to_next_cell": 2
   },
   "outputs": [],
   "source": [
    "for pidx in [0,1,2]:\n",
    "\n",
    "    est_traces = est[pidx,...].reshape(-1, num_trials, timesteps)\n",
    "    raw_traces = roi_tensor[pidx,...].reshape(-1, num_trials, timesteps)\n",
    "    sub_traces = subtracted[pidx,...].reshape(-1, num_trials, timesteps)\n",
    "\n",
    "    for i in range(num_plots):\n",
    "        trace_idx = order[i]\n",
    "\n",
    "        axs[i,pidx].plot(raw_traces[trace_idx].T, alpha=0.9,linewidth=0.5)\n",
    "        axs[i,pidx].plot(est_traces[trace_idx].T, alpha=0.9,linewidth=0.5)\n",
    "        axs[i,pidx].plot(sub_traces[trace_idx].T, alpha=0.9,linewidth=0.5)\n",
    "\n",
    "        # plot initiation time of stim\n",
    "        for j in range(9):\n",
    "            plt.sca(axs[i,j])\n",
    "            plt.axvline(x=100, linestyle='-.', linewidth=0.5, alpha=0.8)\n",
    "\n",
    "    axs[0,pidx].set_title('raw \\n %.1f' % powers[pidx])\n",
    "    axs[0,pidx].set_title('est \\n %.1f' % powers[pidx])\n",
    "    axs[0,pidx].set_title('subtracted \\n %.1f' % powers[pidx])"
   ]
  },
  {
   "cell_type": "code",
   "execution_count": null,
   "metadata": {},
   "outputs": [],
   "source": [
    "raw_traces.shape"
   ]
  },
  {
   "cell_type": "code",
   "execution_count": null,
   "metadata": {},
   "outputs": [],
   "source": [
    "trace_idx"
   ]
  },
  {
   "cell_type": "code",
   "execution_count": null,
   "metadata": {
    "lines_to_next_cell": 2
   },
   "outputs": [],
   "source": [
    "order = np.argsort(np.nansum(roi_tensor[-1,...].reshape(-1, num_trials, timesteps), axis=(-1,-2)))\n",
    "powers = np.unique(I)\n",
    "num_plots = 20\n",
    "fig, axs = plt.subplots(nrows=num_plots, ncols=3,\n",
    "                    figsize=(15,1 * num_plots), dpi=300,\n",
    "                    sharey=True, sharex=True, facecolor='white')"
   ]
  },
  {
   "cell_type": "code",
   "execution_count": null,
   "metadata": {
    "lines_to_next_cell": 2
   },
   "outputs": [],
   "source": [
    "for pidx in [0,1,2]:\n",
    "\n",
    "    est_traces = est[pidx,...].reshape(-1, num_trials, timesteps)\n",
    "    raw_traces = roi_tensor[pidx,...].reshape(-1, num_trials, timesteps)\n",
    "    sub_traces = subtracted[pidx,...].reshape(-1, num_trials, timesteps)\n",
    "\n",
    "    for i in range(num_plots):\n",
    "        trace_idx = order[i]\n",
    "\n",
    "        axs[i,pidx].plot(raw_traces[trace_idx].T, alpha=0.9,linewidth=0.5)\n",
    "        axs[i,pidx].plot(est_traces[trace_idx].T, alpha=0.9,linewidth=0.5)\n",
    "        axs[i,pidx].plot(sub_traces[trace_idx].T, alpha=0.9,linewidth=0.5)\n",
    "\n",
    "        # plot initiation time of stim\n",
    "        for j in range(9):\n",
    "            plt.sca(axs[i,j])\n",
    "            plt.axvline(x=100, linestyle='-.', linewidth=0.5, alpha=0.8)\n",
    "\n",
    "    axs[0,pidx].set_title('raw \\n %.1f' % powers[pidx])\n",
    "    axs[0,pidx].set_title('est \\n %.1f' % powers[pidx])\n",
    "    axs[0,pidx].set_title('subtracted \\n %.1f' % powers[pidx])"
   ]
  },
  {
   "cell_type": "code",
   "execution_count": null,
   "metadata": {
    "lines_to_next_cell": 2
   },
   "outputs": [],
   "source": [
    "order = np.argsort(np.nansum(roi_tensor[-1,...].reshape(-1, num_trials, timesteps), axis=(-1,-2)))\n",
    "powers = np.unique(I)\n",
    "num_plots = 20\n",
    "fig, axs = plt.subplots(nrows=num_plots, ncols=3,\n",
    "                    figsize=(15,1 * num_plots), dpi=300,\n",
    "                    sharey=True, sharex=True, facecolor='white')"
   ]
  },
  {
   "cell_type": "code",
   "execution_count": null,
   "metadata": {
    "lines_to_next_cell": 2
   },
   "outputs": [],
   "source": [
    "for pidx in [0,1,2]:\n",
    "\n",
    "    est_traces = est[pidx,...].reshape(-1, num_trials, timesteps)\n",
    "    raw_traces = roi_tensor[pidx,...].reshape(-1, num_trials, timesteps)\n",
    "    sub_traces = subtracted[pidx,...].reshape(-1, num_trials, timesteps)\n",
    "\n",
    "    for i in range(num_plots):\n",
    "        trace_idx = order[i]\n",
    "\n",
    "        axs[i,pidx].plot(raw_traces[trace_idx].T, alpha=0.9,linewidth=0.5)\n",
    "        axs[i,pidx].plot(est_traces[trace_idx].T, alpha=0.9,linewidth=0.5)\n",
    "        axs[i,pidx].plot(sub_traces[trace_idx].T, alpha=0.9,linewidth=0.5)\n",
    "\n",
    "        # plot initiation time of stim\n",
    "        for j in range(3):\n",
    "            plt.sca(axs[i,j])\n",
    "            plt.axvline(x=100, linestyle='-.', linewidth=0.5, alpha=0.8)\n",
    "\n",
    "    axs[0,pidx].set_title('raw \\n %.1f' % powers[pidx])\n",
    "    axs[0,pidx].set_title('est \\n %.1f' % powers[pidx])\n",
    "    axs[0,pidx].set_title('subtracted \\n %.1f' % powers[pidx])"
   ]
  },
  {
   "cell_type": "code",
   "execution_count": null,
   "metadata": {
    "lines_to_next_cell": 2
   },
   "outputs": [],
   "source": [
    "order = np.argsort(np.nansum(roi_tensor[-1,...].reshape(-1, num_trials, timesteps), axis=(-1,-2)))\n",
    "powers = np.unique(I)\n",
    "num_plots = 20\n",
    "fig, axs = plt.subplots(nrows=num_plots, ncols=3,\n",
    "                    figsize=(15,1 * num_plots), dpi=300,\n",
    "                    sharey=True, sharex=True, facecolor='white')"
   ]
  },
  {
   "cell_type": "code",
   "execution_count": null,
   "metadata": {
    "lines_to_next_cell": 2
   },
   "outputs": [],
   "source": [
    "for pidx in [0,1,2]:\n",
    "\n",
    "    est_traces = est[pidx,...].reshape(-1, num_trials, timesteps)\n",
    "    raw_traces = roi_tensor[pidx,...].reshape(-1, num_trials, timesteps)\n",
    "    sub_traces = subtracted[pidx,...].reshape(-1, num_trials, timesteps)\n",
    "\n",
    "    for i in range(num_plots):\n",
    "        trace_idx = order[i]\n",
    "\n",
    "        axs[i,pidx].plot(raw_traces[trace_idx].T, alpha=0.9,linewidth=0.9)\n",
    "        axs[i,pidx].plot(est_traces[trace_idx].T, alpha=0.9,linewidth=0.9)\n",
    "        axs[i,pidx].plot(sub_traces[trace_idx].T, alpha=0.9,linewidth=0.9)\n",
    "\n",
    "        # plot initiation time of stim\n",
    "        for j in range(3):\n",
    "            plt.sca(axs[i,j])\n",
    "            plt.axvline(x=100, linestyle='-.', linewidth=0.5, alpha=0.8)\n",
    "\n",
    "    axs[0,pidx].set_title('raw \\n %.1f' % powers[pidx])\n",
    "    axs[0,pidx].set_title('est \\n %.1f' % powers[pidx])\n",
    "    axs[0,pidx].set_title('subtracted \\n %.1f' % powers[pidx])"
   ]
  },
  {
   "cell_type": "code",
   "execution_count": null,
   "metadata": {
    "lines_to_next_cell": 2
   },
   "outputs": [],
   "source": [
    "order = np.argsort(np.nansum(roi_tensor[-1,...].reshape(-1, num_trials, timesteps), axis=(-1,-2)))[::-1]\n",
    "powers = np.unique(I)\n",
    "num_plots = 20\n",
    "fig, axs = plt.subplots(nrows=num_plots, ncols=3,\n",
    "                    figsize=(15,1 * num_plots), dpi=300,\n",
    "                    sharey=True, sharex=True, facecolor='white')"
   ]
  },
  {
   "cell_type": "code",
   "execution_count": null,
   "metadata": {
    "lines_to_next_cell": 2
   },
   "outputs": [],
   "source": [
    "for pidx in [0,1,2]:\n",
    "\n",
    "    est_traces = est[pidx,...].reshape(-1, num_trials, timesteps)\n",
    "    raw_traces = roi_tensor[pidx,...].reshape(-1, num_trials, timesteps)\n",
    "    sub_traces = subtracted[pidx,...].reshape(-1, num_trials, timesteps)\n",
    "\n",
    "    for i in range(num_plots):\n",
    "        trace_idx = order[i]\n",
    "\n",
    "        axs[i,pidx].plot(raw_traces[trace_idx].T, alpha=0.9)\n",
    "        axs[i,pidx].plot(est_traces[trace_idx].T, alpha=0.9)\n",
    "        axs[i,pidx].plot(sub_traces[trace_idx].T, alpha=0.9)\n",
    "\n",
    "        # plot initiation time of stim\n",
    "        for j in range(3):\n",
    "            plt.sca(axs[i,j])\n",
    "            plt.axvline(x=100, linestyle='-.', linewidth=0.5, alpha=0.8)\n",
    "\n",
    "    axs[0,pidx].set_title('raw \\n %.1f' % powers[pidx])\n",
    "    axs[0,pidx].set_title('est \\n %.1f' % powers[pidx])\n",
    "    axs[0,pidx].set_title('subtracted \\n %.1f' % powers[pidx])"
   ]
  },
  {
   "cell_type": "code",
   "execution_count": null,
   "metadata": {
    "lines_to_next_cell": 2
   },
   "outputs": [],
   "source": [
    "order = np.argsort(np.nansum(roi_tensor[-1,...].reshape(-1, num_trials, timesteps), axis=(-1,-2)))[::-1]\n",
    "powers = np.unique(I)\n",
    "num_plots = 20\n",
    "fig, axs = plt.subplots(nrows=num_plots, ncols=9,\n",
    "                    figsize=(15,1 * num_plots), dpi=300,\n",
    "                    sharey=True, sharex=True, facecolor='white')"
   ]
  },
  {
   "cell_type": "code",
   "execution_count": null,
   "metadata": {
    "lines_to_next_cell": 2
   },
   "outputs": [],
   "source": [
    "for pidx in [0,1,2]:\n",
    "\n",
    "    est_traces = est[pidx,...].reshape(-1, num_trials, timesteps)\n",
    "    raw_traces = roi_tensor[pidx,...].reshape(-1, num_trials, timesteps)\n",
    "    sub_traces = subtracted[pidx,...].reshape(-1, num_trials, timesteps)\n",
    "\n",
    "    for i in range(num_plots):\n",
    "        trace_idx = order[i]\n",
    "\n",
    "        axs[i,pidx].plot(raw_traces[trace_idx].T, alpha=0.9)\n",
    "        axs[i,pidx + 1].plot(est_traces[trace_idx].T, alpha=0.9)\n",
    "        axs[i,pidx + 2].plot(sub_traces[trace_idx].T, alpha=0.9)\n",
    "\n",
    "        # plot initiation time of stim\n",
    "        for j in range(3):\n",
    "            plt.sca(axs[i,j])\n",
    "            plt.axvline(x=100, linestyle='-.', linewidth=0.5, alpha=0.8)\n",
    "\n",
    "    axs[0,pidx].set_title('raw \\n %.1f' % powers[pidx])\n",
    "    axs[0,pidx + 1].set_title('est \\n %.1f' % powers[pidx])\n",
    "    axs[0,pidx + 2].set_title('subtracted \\n %.1f' % powers[pidx])"
   ]
  },
  {
   "cell_type": "code",
   "execution_count": null,
   "metadata": {
    "lines_to_next_cell": 2
   },
   "outputs": [],
   "source": [
    "order = np.argsort(np.nansum(roi_tensor[-1,...].reshape(-1, num_trials, timesteps), axis=(-1,-2)))[::-1]\n",
    "powers = np.unique(I)\n",
    "num_plots = 20\n",
    "fig, axs = plt.subplots(nrows=num_plots, ncols=9,\n",
    "                    figsize=(15,1 * num_plots), dpi=300,\n",
    "                    sharey=True, sharex=True, facecolor='white')"
   ]
  },
  {
   "cell_type": "code",
   "execution_count": null,
   "metadata": {
    "lines_to_next_cell": 2
   },
   "outputs": [],
   "source": [
    "for pidx, j in zip([0,1,2], [0,3,6]):\n",
    "\n",
    "    est_traces = est[pidx,...].reshape(-1, num_trials, timesteps)\n",
    "    raw_traces = roi_tensor[pidx,...].reshape(-1, num_trials, timesteps)\n",
    "    sub_traces = subtracted[pidx,...].reshape(-1, num_trials, timesteps)\n",
    "\n",
    "    for i in range(num_plots):\n",
    "        trace_idx = order[i]\n",
    "\n",
    "        axs[i,j].plot(raw_traces[trace_idx].T, alpha=0.9)\n",
    "        axs[i,j + 1].plot(est_traces[trace_idx].T, alpha=0.9)\n",
    "        axs[i,j + 2].plot(sub_traces[trace_idx].T, alpha=0.9)\n",
    "\n",
    "        # plot initiation time of stim\n",
    "        for j in range(3):\n",
    "            plt.sca(axs[i,j])\n",
    "            plt.axvline(x=100, linestyle='-.', linewidth=0.5, alpha=0.8)\n",
    "\n",
    "    axs[0,pidx].set_title('raw \\n %.1f' % powers[pidx])\n",
    "    axs[0,pidx + 1].set_title('est \\n %.1f' % powers[pidx])\n",
    "    axs[0,pidx + 2].set_title('subtracted \\n %.1f' % powers[pidx])"
   ]
  },
  {
   "cell_type": "code",
   "execution_count": null,
   "metadata": {
    "lines_to_next_cell": 2
   },
   "outputs": [],
   "source": [
    "order = np.argsort(np.nansum(roi_tensor[-1,...].reshape(-1, num_trials, timesteps), axis=(-1,-2)))[::-1]\n",
    "powers = np.unique(I)\n",
    "num_plots = 20\n",
    "fig, axs = plt.subplots(nrows=num_plots, ncols=9,\n",
    "                    figsize=(15,1 * num_plots), dpi=300,\n",
    "                    sharey=True, sharex=True, facecolor='white')"
   ]
  },
  {
   "cell_type": "code",
   "execution_count": null,
   "metadata": {
    "lines_to_next_cell": 2
   },
   "outputs": [],
   "source": [
    "for pidx, j in zip([0,1,2], [0,3,6]):\n",
    "\n",
    "    est_traces = est[pidx,...].reshape(-1, num_trials, timesteps)\n",
    "    raw_traces = roi_tensor[pidx,...].reshape(-1, num_trials, timesteps)\n",
    "    sub_traces = subtracted[pidx,...].reshape(-1, num_trials, timesteps)\n",
    "\n",
    "    for i in range(num_plots):\n",
    "        trace_idx = order[i]\n",
    "\n",
    "        axs[i,j].plot(raw_traces[trace_idx].T, alpha=0.9)\n",
    "        axs[i,j + 1].plot(est_traces[trace_idx].T, alpha=0.9)\n",
    "        axs[i,j + 2].plot(sub_traces[trace_idx].T, alpha=0.9)\n",
    "\n",
    "        # plot initiation time of stim\n",
    "        for j in range(3):\n",
    "            plt.sca(axs[i,j])\n",
    "            plt.axvline(x=100, linestyle='-.', linewidth=0.5, alpha=0.8)\n",
    "\n",
    "    axs[0,j].set_title('raw \\n %.1f' % powers[pidx])\n",
    "    axs[0,j + 1].set_title('est \\n %.1f' % powers[pidx])\n",
    "    axs[0,j + 2].set_title('subtracted \\n %.1f' % powers[pidx])"
   ]
  },
  {
   "cell_type": "code",
   "execution_count": null,
   "metadata": {
    "lines_to_next_cell": 2
   },
   "outputs": [],
   "source": [
    "order = np.argsort(np.nansum(roi_tensor[-1,...].reshape(-1, num_trials, timesteps), axis=(-1,-2)))[::-1]\n",
    "powers = np.unique(I)\n",
    "num_plots = 20\n",
    "fig, axs = plt.subplots(nrows=num_plots, ncols=9,\n",
    "                    figsize=(15,1 * num_plots), dpi=300,\n",
    "                    sharey=True, sharex=True, facecolor='white')"
   ]
  },
  {
   "cell_type": "code",
   "execution_count": null,
   "metadata": {
    "lines_to_next_cell": 2
   },
   "outputs": [],
   "source": [
    "for pidx, j in zip([0,1,2], [0,3,6]):\n",
    "\n",
    "    est_traces = est[pidx,...].reshape(-1, num_trials, timesteps)\n",
    "    raw_traces = roi_tensor[pidx,...].reshape(-1, num_trials, timesteps)\n",
    "    sub_traces = subtracted[pidx,...].reshape(-1, num_trials, timesteps)\n",
    "\n",
    "    for i in range(num_plots):\n",
    "        trace_idx = order[i]\n",
    "\n",
    "        axs[i,j].plot(raw_traces[trace_idx].T, alpha=0.9)\n",
    "        axs[i,j + 1].plot(est_traces[trace_idx].T, alpha=0.9)\n",
    "        axs[i,j + 2].plot(sub_traces[trace_idx].T, alpha=0.9)\n",
    "\n",
    "        # plot initiation time of stim\n",
    "        for j in range(3):\n",
    "            plt.sca(axs[i,j])\n",
    "            plt.axvline(x=100, linestyle='-.', linewidth=0.5, alpha=0.8)\n",
    "\n",
    "    print(j)\n",
    "    axs[0,j].set_title('raw \\n %.1f' % powers[pidx])\n",
    "    axs[0,j + 1].set_title('est \\n %.1f' % powers[pidx])\n",
    "    axs[0,j + 2].set_title('subtracted \\n %.1f' % powers[pidx])"
   ]
  },
  {
   "cell_type": "code",
   "execution_count": null,
   "metadata": {
    "lines_to_next_cell": 2
   },
   "outputs": [],
   "source": [
    "order = np.argsort(np.nansum(roi_tensor[-1,...].reshape(-1, num_trials, timesteps), axis=(-1,-2)))[::-1]\n",
    "powers = np.unique(I)\n",
    "num_plots = 20\n",
    "fig, axs = plt.subplots(nrows=num_plots, ncols=9,\n",
    "                    figsize=(15,1 * num_plots), dpi=300,\n",
    "                    sharey=True, sharex=True, facecolor='white')"
   ]
  },
  {
   "cell_type": "code",
   "execution_count": null,
   "metadata": {},
   "outputs": [],
   "source": [
    "for pidx, j in zip([0,1,2], [0,3,6]):\n",
    "\n",
    "    est_traces = est[pidx,...].reshape(-1, num_trials, timesteps)\n",
    "    raw_traces = roi_tensor[pidx,...].reshape(-1, num_trials, timesteps)\n",
    "    sub_traces = subtracted[pidx,...].reshape(-1, num_trials, timesteps)\n",
    "\n",
    "    for i in range(num_plots):\n",
    "        trace_idx = order[i]\n",
    "\n",
    "        axs[i,j].plot(raw_traces[trace_idx].T, alpha=0.9)\n",
    "        axs[i,j + 1].plot(est_traces[trace_idx].T, alpha=0.9)\n",
    "        axs[i,j + 2].plot(sub_traces[trace_idx].T, alpha=0.9)\n",
    "\n",
    "        # plot initiation time of stim\n",
    "        for k in range(9):\n",
    "            plt.sca(axs[i,k])\n",
    "            plt.axvline(x=100, linestyle='-.', linewidth=0.5, alpha=0.8)\n",
    "\n",
    "    print(j)\n",
    "    axs[0,j].set_title('raw \\n %.1f' % powers[pidx])\n",
    "    axs[0,j + 1].set_title('est \\n %.1f' % powers[pidx])\n",
    "    axs[0,j + 2].set_title('subtracted \\n %.1f' % powers[pidx])"
   ]
  },
  {
   "cell_type": "code",
   "execution_count": null,
   "metadata": {},
   "outputs": [],
   "source": [
    "def plot_photocurrent_traces(roi_tensor, est, subtracted):\n",
    "    npowers, _, _, _, num_trials, timesteps = roi_tensor.shape\n",
    "    order = np.argsort(np.nansum(roi_tensor[-1,...].reshape(-1, num_trials, timesteps), axis=(-1,-2)))[::-1]\n",
    "    powers = np.unique(I)\n",
    "    num_plots = 20\n",
    "    fig, axs = plt.subplots(nrows=num_plots, ncols=9,\n",
    "                        figsize=(15,1 * num_plots), dpi=300,\n",
    "                        sharey=True, sharex=True, facecolor='white')\n",
    "\n",
    "\n",
    "    for pidx, j in zip([0,1,2], [0,3,6]):\n",
    "\n",
    "        est_traces = est[pidx,...].reshape(-1, num_trials, timesteps)\n",
    "        raw_traces = roi_tensor[pidx,...].reshape(-1, num_trials, timesteps)\n",
    "        sub_traces = subtracted[pidx,...].reshape(-1, num_trials, timesteps)\n",
    "\n",
    "        for i in range(num_plots):\n",
    "            trace_idx = order[i]\n",
    "\n",
    "            axs[i,j].plot(raw_traces[trace_idx].T, alpha=0.9)\n",
    "            axs[i,j + 1].plot(est_traces[trace_idx].T, alpha=0.9)\n",
    "            axs[i,j + 2].plot(sub_traces[trace_idx].T, alpha=0.9)\n",
    "\n",
    "            # plot initiation time of stim\n",
    "            for k in range(9):\n",
    "                plt.sca(axs[i,k])\n",
    "                plt.axvline(x=100, linestyle='-.', linewidth=0.5, alpha=0.8)\n",
    "\n",
    "        print(j)\n",
    "        axs[0,j].set_title('raw \\n %.1f' % powers[pidx])\n",
    "        axs[0,j + 1].set_title('est \\n %.1f' % powers[pidx])\n",
    "        axs[0,j + 2].set_title('subtracted \\n %.1f' % powers[pidx])"
   ]
  },
  {
   "cell_type": "code",
   "execution_count": null,
   "metadata": {},
   "outputs": [],
   "source": [
    "plot_photocurrent_traces(roi_tensor, est, subtracted)"
   ]
  },
  {
   "cell_type": "code",
   "execution_count": null,
   "metadata": {},
   "outputs": [],
   "source": [
    "plot_photocurrent_traces(roi_tensor[:, :, :, -1, ...], est[:, :, :, -1, ...], subtracted[:, :, :, -1, ...])"
   ]
  },
  {
   "cell_type": "code",
   "execution_count": null,
   "metadata": {
    "lines_to_next_cell": 1
   },
   "outputs": [],
   "source": [
    "plot_photocurrent_traces(roi_tensor[:, :, :, 0:2, ...], est[:, :, :, 0:2, ...], subtracted[:, :, :, 0:2, ...])"
   ]
  },
  {
   "cell_type": "code",
   "execution_count": null,
   "metadata": {},
   "outputs": [],
   "source": [
    "def plot_photocurrent_traces(roi_tensor, est, subtracted):\n",
    "    npowers, _, _, _, num_trials, timesteps = roi_tensor.shape\n",
    "    order = np.argsort(np.nansum(roi_tensor[-1,...].reshape(-1, num_trials, timesteps), axis=(-1,-2)))[::-1]\n",
    "    powers = np.unique(I)\n",
    "    num_plots = 50\n",
    "    fig, axs = plt.subplots(nrows=num_plots, ncols=9,\n",
    "                        figsize=(15,1 * num_plots), dpi=300,\n",
    "                        sharey=True, sharex=True, facecolor='white')\n",
    "\n",
    "\n",
    "    for pidx, j in zip([0,1,2], [0,3,6]):\n",
    "\n",
    "        est_traces = est[pidx,...].reshape(-1, num_trials, timesteps)\n",
    "        raw_traces = roi_tensor[pidx,...].reshape(-1, num_trials, timesteps)\n",
    "        sub_traces = subtracted[pidx,...].reshape(-1, num_trials, timesteps)\n",
    "\n",
    "        for i in range(num_plots):\n",
    "            trace_idx = order[i]\n",
    "\n",
    "            axs[i,j].plot(raw_traces[trace_idx].T, alpha=0.9)\n",
    "            axs[i,j + 1].plot(est_traces[trace_idx].T, alpha=0.9)\n",
    "            axs[i,j + 2].plot(sub_traces[trace_idx].T, alpha=0.9)\n",
    "\n",
    "            # plot initiation time of stim\n",
    "            for k in range(9):\n",
    "                plt.sca(axs[i,k])\n",
    "                plt.axvline(x=100, linestyle='-.', linewidth=0.5, alpha=0.8)\n",
    "\n",
    "        print(j)\n",
    "        axs[0,j].set_title('raw \\n %.1f' % powers[pidx])\n",
    "        axs[0,j + 1].set_title('est \\n %.1f' % powers[pidx])\n",
    "        axs[0,j + 2].set_title('subtracted \\n %.1f' % powers[pidx])"
   ]
  },
  {
   "cell_type": "code",
   "execution_count": null,
   "metadata": {
    "lines_to_next_cell": 1
   },
   "outputs": [],
   "source": [
    "plot_photocurrent_traces(roi_tensor[:, :, :, 0:2, ...], est[:, :, :, 0:2, ...], subtracted[:, :, :, 0:2, ...])"
   ]
  },
  {
   "cell_type": "code",
   "execution_count": null,
   "metadata": {},
   "outputs": [],
   "source": [
    "def plot_photocurrent_traces(roi_tensor, est, subtracted):\n",
    "    npowers, _, _, _, num_trials, timesteps = roi_tensor.shape\n",
    "    order = np.argsort(np.nansum(roi_tensor[-1,...].reshape(-1, num_trials, timesteps), axis=(-1,-2)))\n",
    "    powers = np.unique(I)\n",
    "    num_plots = 50\n",
    "    fig, axs = plt.subplots(nrows=num_plots, ncols=9,\n",
    "                        figsize=(15,1 * num_plots), dpi=300,\n",
    "                        sharey=True, sharex=True, facecolor='white')\n",
    "\n",
    "\n",
    "    for pidx, j in zip([0,1,2], [0,3,6]):\n",
    "\n",
    "        est_traces = est[pidx,...].reshape(-1, num_trials, timesteps)\n",
    "        raw_traces = roi_tensor[pidx,...].reshape(-1, num_trials, timesteps)\n",
    "        sub_traces = subtracted[pidx,...].reshape(-1, num_trials, timesteps)\n",
    "\n",
    "        for i in range(num_plots):\n",
    "            trace_idx = order[i]\n",
    "\n",
    "            axs[i,j].plot(raw_traces[trace_idx].T, alpha=0.9)\n",
    "            axs[i,j + 1].plot(est_traces[trace_idx].T, alpha=0.9)\n",
    "            axs[i,j + 2].plot(sub_traces[trace_idx].T, alpha=0.9)\n",
    "\n",
    "            # plot initiation time of stim\n",
    "            for k in range(9):\n",
    "                plt.sca(axs[i,k])\n",
    "                plt.axvline(x=100, linestyle='-.', linewidth=0.5, alpha=0.8)\n",
    "\n",
    "        print(j)\n",
    "        axs[0,j].set_title('raw \\n %.1f' % powers[pidx])\n",
    "        axs[0,j + 1].set_title('est \\n %.1f' % powers[pidx])\n",
    "        axs[0,j + 2].set_title('subtracted \\n %.1f' % powers[pidx])"
   ]
  },
  {
   "cell_type": "code",
   "execution_count": null,
   "metadata": {
    "lines_to_next_cell": 1
   },
   "outputs": [],
   "source": [
    "plot_photocurrent_traces(roi_tensor[:, :, :, 0:2, ...], est[:, :, :, 0:2, ...], subtracted[:, :, :, 0:2, ...])"
   ]
  },
  {
   "cell_type": "code",
   "execution_count": null,
   "metadata": {},
   "outputs": [],
   "source": [
    "def plot_photocurrent_traces(roi_tensor, est, subtracted):\n",
    "    npowers, nxs, nys, nzs, num_trials, timesteps = roi_tensor.shape\n",
    "#     order = np.argsort(np.nansum(roi_tensor[-1,...].reshape(-1, num_trials, timesteps), axis=(-1,-2)))\n",
    "\n",
    "    powers = np.unique(I)\n",
    "    num_plots = 50\n",
    "    \n",
    "    order = np.random.choice(np.arange(nxs * nys * nzs), size=num_plots, replace=False)\n",
    "    \n",
    "    fig, axs = plt.subplots(nrows=num_plots, ncols=9,\n",
    "                        figsize=(15,1 * num_plots), dpi=300,\n",
    "                        sharey=True, sharex=True, facecolor='white')\n",
    "\n",
    "\n",
    "    for pidx, j in zip([0,1,2], [0,3,6]):\n",
    "\n",
    "        est_traces = est[pidx,...].reshape(-1, num_trials, timesteps)\n",
    "        raw_traces = roi_tensor[pidx,...].reshape(-1, num_trials, timesteps)\n",
    "        sub_traces = subtracted[pidx,...].reshape(-1, num_trials, timesteps)\n",
    "\n",
    "        for i in range(num_plots):\n",
    "            trace_idx = order[i]\n",
    "\n",
    "            axs[i,j].plot(raw_traces[trace_idx].T, alpha=0.9)\n",
    "            axs[i,j + 1].plot(est_traces[trace_idx].T, alpha=0.9)\n",
    "            axs[i,j + 2].plot(sub_traces[trace_idx].T, alpha=0.9)\n",
    "\n",
    "            # plot initiation time of stim\n",
    "            for k in range(9):\n",
    "                plt.sca(axs[i,k])\n",
    "                plt.axvline(x=100, linestyle='-.', linewidth=0.5, alpha=0.8)\n",
    "\n",
    "        print(j)\n",
    "        axs[0,j].set_title('raw \\n %.1f' % powers[pidx])\n",
    "        axs[0,j + 1].set_title('est \\n %.1f' % powers[pidx])\n",
    "        axs[0,j + 2].set_title('subtracted \\n %.1f' % powers[pidx])"
   ]
  },
  {
   "cell_type": "code",
   "execution_count": null,
   "metadata": {},
   "outputs": [],
   "source": [
    "plot_photocurrent_traces(roi_tensor[:, :, :, 0:2, ...], est[:, :, :, 0:2, ...], subtracted[:, :, :, 0:2, ...])"
   ]
  },
  {
   "cell_type": "code",
   "execution_count": null,
   "metadata": {},
   "outputs": [],
   "source": [
    "ps = np.arange(3)\n",
    "xs = np.arange(6,25)\n",
    "ys = np.arange(3,21)\n",
    "zs = np.arange(5)\n",
    "P, X, Y, Z = np.meshgrid(ps, xs, ys, zs, indexing='ij')"
   ]
  },
  {
   "cell_type": "code",
   "execution_count": null,
   "metadata": {},
   "outputs": [],
   "source": [
    "psc_tensor = grid_util.make_psc_tensor(psc, I, L)\n",
    "roi_tensor = extract_roi(ps, xs, ys, zs, psc_tensor)\n",
    "roi_mean_map = np.nanmean(np.nansum(roi_tensor, axis=-1), axis=-1)"
   ]
  },
  {
   "cell_type": "code",
   "execution_count": null,
   "metadata": {},
   "outputs": [],
   "source": [
    "plot_kwargs = {'cmap':'magma'}\n",
    "fig = plt.figure(figsize=(3, 5), dpi=300, facecolor='white')"
   ]
  },
  {
   "cell_type": "code",
   "execution_count": null,
   "metadata": {},
   "outputs": [],
   "source": [
    "grid_util.plot_multi_means(fig,\n",
    "    [roi_mean_map], np.arange(5),\n",
    "    map_names=['raw', ],\n",
    "    cmaps=['magma',],\n",
    "    vranges=[(-1.0, 10.0)])"
   ]
  },
  {
   "cell_type": "code",
   "execution_count": null,
   "metadata": {},
   "outputs": [],
   "source": [
    "roi_tensor.shape"
   ]
  },
  {
   "cell_type": "code",
   "execution_count": null,
   "metadata": {},
   "outputs": [],
   "source": [
    "from tensorly.decomposition import parafac, non_negative_parafac\n",
    "import tensorly as tl"
   ]
  },
  {
   "cell_type": "code",
   "execution_count": null,
   "metadata": {},
   "outputs": [],
   "source": [
    "def estimate_photocurrents(roi_tensor, separate_by_powers=True, rank=1, l2_reg=0.0):\n",
    "    npowers, nx, ny, nz, ntrials, ntimesteps = roi_tensor.shape\n",
    "\n",
    "\n",
    "    subtracted = np.copy(roi_tensor)\n",
    "    full_est = np.copy(roi_tensor)\n",
    "    \n",
    "    for z_idx in range(nz):\n",
    "\n",
    "        for power_idx in range(npowers):\n",
    "\n",
    "            # extract current tensor we're working with. Different powers\n",
    "            # can have different numbers of trials, which are marked by np.nan\n",
    "            try:\n",
    "                ntrials_curr = np.where(np.isnan(roi_tensor[power_idx, 0, 0, 0, :, 0]))[0][0]\n",
    "            except IndexError:\n",
    "                ntrials_curr = ntrials\n",
    "\n",
    "            # This forms an index to extract a particular (power, trials, plane) combination\n",
    "            _slice = np.s_[power_idx, :, :, z_idx, 0:ntrials_curr, :]\n",
    "            \n",
    "            tensor_curr = roi_tensor[_slice].reshape(-1, ntrials_curr, ntimesteps)\n",
    "\n",
    "            # form rank1 approx and subtract\n",
    "            cptensor = non_negative_parafac(np.maximum(tensor_curr, 0),\n",
    "                               rank=rank,)\n",
    "\n",
    "            est = tl.cp_to_tensor(cptensor).reshape(nx, ny, ntrials_curr, ntimesteps)\n",
    "            subtracted[_slice] = roi_tensor[_slice] - est\n",
    "            full_est[_slice] = est\n",
    "\n",
    "\n",
    "    return full_est, subtracted\n"
   ]
  },
  {
   "cell_type": "code",
   "execution_count": null,
   "metadata": {},
   "outputs": [],
   "source": [
    "    "
   ]
  },
  {
   "cell_type": "code",
   "execution_count": null,
   "metadata": {
    "lines_to_next_cell": 2
   },
   "outputs": [],
   "source": [
    "est, subtracted = estimate_photocurrents(roi_tensor,\n",
    "                                         separate_by_powers=True, l2_reg=1, rank=1)"
   ]
  },
  {
   "cell_type": "code",
   "execution_count": null,
   "metadata": {},
   "outputs": [],
   "source": [
    "# place ROI back into grid\n",
    "psc_tensor_corrected = np.copy(psc_tensor)\n",
    "psc_tensor_corrected[P, X, Y, Z] = subtracted"
   ]
  },
  {
   "cell_type": "code",
   "execution_count": null,
   "metadata": {},
   "outputs": [],
   "source": [
    "mean_map_subtracted = np.nanmean(np.nansum(psc_tensor_corrected, axis=-1), axis=-1)"
   ]
  },
  {
   "cell_type": "code",
   "execution_count": null,
   "metadata": {},
   "outputs": [],
   "source": [
    "fig = plt.figure(figsize=(8, 5), dpi=300, facecolor='white')"
   ]
  },
  {
   "cell_type": "code",
   "execution_count": null,
   "metadata": {
    "lines_to_next_cell": 2
   },
   "outputs": [],
   "source": [
    "stacked = np.concatenate((mean_map, mean_map_subtracted), axis=3)\n",
    "grid_util.plot_multi_means(fig,\n",
    "    [mean_map, mean_map_subtracted], np.arange(5),\n",
    "    map_names=['raw', 'subtracted'],\n",
    "    cmaps=['magma', 'magma'],\n",
    "    cbar_labels=['EPSQ (nC)', 'EPSQ (nC)'],\n",
    "    vranges=[(-1,15), (-1,15)],\n",
    "    powers=np.unique(I),\n",
    "    )"
   ]
  }
 ],
 "metadata": {
  "jupytext": {
   "cell_metadata_filter": "-all",
   "main_language": "python",
   "notebook_metadata_filter": "-all"
  },
  "kernelspec": {
   "display_name": "Python 3",
   "language": "python",
   "name": "python3"
  },
  "language_info": {
   "codemirror_mode": {
    "name": "ipython",
    "version": 3
   },
   "file_extension": ".py",
   "mimetype": "text/x-python",
   "name": "python",
   "nbconvert_exporter": "python",
   "pygments_lexer": "ipython3",
   "version": "3.7.4"
  }
 },
 "nbformat": 4,
 "nbformat_minor": 2
}
