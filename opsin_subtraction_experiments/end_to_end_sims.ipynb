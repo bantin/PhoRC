{
 "cells": [
  {
   "cell_type": "code",
   "execution_count": 1,
   "metadata": {},
   "outputs": [
    {
     "name": "stderr",
     "output_type": "stream",
     "text": [
      "/home/ba2617/.conda/envs/subtraction/lib/python3.10/site-packages/tqdm/auto.py:21: TqdmWarning: IProgress not found. Please update jupyter and ipywidgets. See https://ipywidgets.readthedocs.io/en/stable/user_install.html\n",
      "  from .autonotebook import tqdm as notebook_tqdm\n"
     ]
    }
   ],
   "source": [
    "import subtractr\n",
    "import jax\n",
    "import jax.numpy as jnp\n",
    "import matplotlib.pyplot as plt\n",
    "import numpy as np\n",
    "import circuitmap\n",
    "from circuitmap.neural_waveform_demixing import NeuralDemixer\n",
    "from circuitmap.simulation import simulate_continuous_experiment\n",
    "import subtractr.photocurrent_sim as pcsim\n",
    "from subtractr.photocurrent_sim import sample_jittered_photocurrent_shapes, split_overlapping, monotone_decay_filter\n",
    "from tqdm import tqdm\n",
    "from functools import partial"
   ]
  },
  {
   "cell_type": "code",
   "execution_count": 2,
   "metadata": {},
   "outputs": [
    {
     "name": "stdout",
     "output_type": "stream",
     "text": [
      "Creating simulation with specifications:\n",
      "Population size 100\n",
      "Hologram targets 10\n",
      "Response window (frames) 1800\n",
      "Stimulus frequency (Hz) 30\n",
      "Experiment duration (s) 3.00\n",
      "Sampling frequency (KHz) 20.0\n",
      "Hologram repetitions 1\n",
      "Connection density 0.1\n",
      "Spontaneous PSC rate (Hz) 3\n",
      "Powers [45, 55, 65]\n"
     ]
    }
   ],
   "source": [
    "stim_dur_ms=5\n",
    "prior_context=100\n",
    "response_length=1800\n",
    "stim_freq=30\n",
    "N=100\n",
    "sampling_freq=20000\n",
    "expt = simulate_continuous_experiment(N=N, stim_freq=stim_freq, expt_len=int(3 * 20000),\n",
    "                                      prior_context=prior_context, response_length=response_length,)"
   ]
  },
  {
   "cell_type": "code",
   "execution_count": 3,
   "metadata": {},
   "outputs": [],
   "source": [
    "def _nonnegsvd_init(traces, rank=1):\n",
    "    U, S, V = jnp.linalg.svd(traces, full_matrices=False)\n",
    "    U = U[:, :rank] * S[:rank]\n",
    "    V = V[:rank, :]\n",
    "\n",
    "    U_plus = jnp.maximum(U, 0)\n",
    "    U_minus = jnp.maximum(-U, 0)\n",
    "    V_plus = jnp.maximum(V, 0)\n",
    "    V_minus = jnp.maximum(-V, 0)\n",
    "\n",
    "    U = jnp.zeros_like(U)\n",
    "    V = jnp.zeros_like(V)\n",
    "    for i in range(rank):\n",
    "        # Rewrite the above using jax.lax.cond\n",
    "        \n",
    "        U = U.at[:, i:i+1].set(\n",
    "            jax.lax.cond(\n",
    "                jnp.linalg.norm(\n",
    "                    U_plus[:, i:i+1] @ V_plus[i:i+1, :]) > jnp.linalg.norm(\n",
    "                        U_minus[:, i:i+1] @ V_minus[i:i+1, :]),\n",
    "                lambda x: U_plus[:, i:i+1],\n",
    "                lambda x: U_minus[:, i:i+1],\n",
    "                None\n",
    "            )\n",
    "        )\n",
    "        V = V.at[i:+1, :].set(\n",
    "            jax.lax.cond(\n",
    "                jnp.linalg.norm(\n",
    "                    U_plus[:, i:i+1] @ V_plus[i:i+1, :]) > jnp.linalg.norm(\n",
    "                    U_minus[:, i:i+1] @ V_minus[i:i+1, :]),\n",
    "                lambda x: V_plus[i:i+1, :],\n",
    "                lambda x: V_minus[i:i+1, :],\n",
    "                None\n",
    "            )\n",
    "        )\n",
    "\n",
    "    return U, V\n",
    "\n",
    "\n"
   ]
  },
  {
   "cell_type": "code",
   "execution_count": 4,
   "metadata": {},
   "outputs": [],
   "source": [
    "from subtractr.low_rank import _rank_one_nmu, _rank_one_nmu_decreasing"
   ]
  },
  {
   "cell_type": "code",
   "execution_count": 5,
   "metadata": {},
   "outputs": [
    {
     "data": {
      "text/plain": [
       "[<matplotlib.lines.Line2D at 0x2b881d781c90>]"
      ]
     },
     "execution_count": 5,
     "metadata": {},
     "output_type": "execute_result"
    },
    {
     "data": {
      "image/png": "[encoded data removed]",
      "text/plain": [
       "<Figure size 640x480 with 1 Axes>"
      ]
     },
     "metadata": {},
     "output_type": "display_data"
    }
   ],
   "source": [
    "import jaxopt\n",
    "from jaxopt import ProjectedGradient\n",
    "\n",
    "def pava_jaxopt(x, gamma):\n",
    "    \n",
    "    def _objective(y):\n",
    "        return jnp.sum((x-y)**2)\n",
    "    \n",
    "    # make first difference matrix\n",
    "    N = x.shape[0]\n",
    "    G = - jnp.eye(N) + jnp.diag(gamma * jnp.ones(N-1), k=1)\n",
    "    A = jnp.zeros((N,N))\n",
    "    b = jnp.zeros(N,)\n",
    "    h = jnp.zeros(N)\n",
    "    \n",
    "    projection = lambda y, hparams: jaxopt.projection.projection_polyhedron(\n",
    "        y, hparams, check_feasible=False)\n",
    "    \n",
    "    solver = ProjectedGradient(fun=_objective,\n",
    "                             projection=projection,\n",
    "                             tol=1e-6, maxiter=100)\n",
    "    \n",
    "    y_init = x.copy()\n",
    "    return solver.run(y_init, hyperparams_proj=(A, b, G, h)).params\n",
    "    \n",
    "a = np.random.rand(10)\n",
    "a_fit = pava_jaxopt(a, 1.0)\n",
    "plt.plot(a)\n",
    "plt.plot(a_fit)\n",
    "    "
   ]
  },
  {
   "cell_type": "code",
   "execution_count": 17,
   "metadata": {},
   "outputs": [],
   "source": [
    "def add_photocurrents_to_expt(key, expt, pc_shape_params=None,\n",
    "        frac_pc_cells=0.1, opsin_mean=0.5, opsin_std=0.2,\n",
    "        stim_dur_ms=5.0, pc_response_var=0.01, pc_window_len_ms=200,\n",
    "        prior_context=100, response_length=900):\n",
    "    \"\"\"Add photocurrents to a continuous experiment generated by circuitmap\"\"\"\n",
    "\n",
    "    # Draw opsin expression from zero-inflated gamma.\n",
    "    # The vector opsin_expression determines the _average_ amplitude\n",
    "    # of an evoked photocurrent when stimulating that cell\n",
    "    N, K = expt['stim_matrix'].shape\n",
    "    pc_cells = np.random.choice(N, int(frac_pc_cells*N), replace=False)\n",
    "    opsin_expression = np.zeros(N)\n",
    "    opsin_expression[pc_cells] = np.random.gamma(shape=(opsin_mean/opsin_std)**2, scale=opsin_std**2/opsin_mean, size=len(pc_cells))\n",
    "        \n",
    "    # Draw actual evoked photocurrent heights centered around their average\n",
    "    pc_contributions = pc_response_var * (\n",
    "            np.random.randn(N, K) * (opsin_expression[:, None] > 0)) + opsin_expression[:,None]\n",
    "\n",
    "    if pc_shape_params is None:\n",
    "        pc_shape_params = dict(\n",
    "            O_inf_min=0.3,\n",
    "                O_inf_max=1.0,\n",
    "                R_inf_min=0.1,\n",
    "                R_inf_max=1.0,\n",
    "                tau_o_min=6,\n",
    "                tau_o_max=25,\n",
    "                tau_r_min=5,\n",
    "                tau_r_max=16, \n",
    "            )\n",
    "\n",
    "    pc_full_params = dict(\n",
    "        onset_jitter_ms=0.01,\n",
    "        onset_latency_ms=0.0,\n",
    "        pc_shape_params=pc_shape_params,\n",
    "        add_target_gp=False,\n",
    "        target_gp_lengthscale=20,\n",
    "        target_gp_scale=0.01,\n",
    "        linear_onset_frac=1.0,\n",
    "        msecs_per_sample=0.05,\n",
    "        stim_start=0.0,\n",
    "        stim_end=stim_dur_ms,\n",
    "        isi_ms=30,\n",
    "        window_len_ms=pc_window_len_ms,\n",
    "    )\n",
    "   \n",
    "    # Get a PC shape for every stim\n",
    "    stim_mat_scaled = expt['stim_matrix'] / np.max(expt['stim_matrix'])\n",
    "    jittered_pc_shapes = np.array(sample_jittered_photocurrent_shapes(key, K, **pc_full_params)[1])\n",
    "    true_photocurrents = np.sum(stim_mat_scaled * pc_contributions, axis=0)[:,None] * jittered_pc_shapes\n",
    "    \n",
    "    # Add photocurrents to unrolled trace to capture inter-trial overlap\n",
    "    obs_flat = unfold_to_flat(expt['obs_responses'],\n",
    "                    response_length=response_length, prior_context=prior_context,\n",
    "                        stim_freq=stim_freq, sampling_freq=sampling_freq)\n",
    "    \n",
    "    isi = int(sampling_freq / stim_freq)\n",
    "    stim_times = np.arange(0, K * isi, isi) + prior_context\n",
    "   \n",
    "    print(stim_times)\n",
    "    print(true_photocurrents.shape)\n",
    "    for i,stim_idx in enumerate(stim_times):\n",
    "        _end_idx = stim_idx + response_length\n",
    "        end_idx_flat = np.minimum(_end_idx, len(obs_flat))\n",
    "        end_idx_wrapped = jittered_pc_shapes.shape[1] - np.maximum(_end_idx - len(obs_flat), 0)\n",
    "        obs_flat[stim_idx:end_idx_flat] += true_photocurrents[i,:end_idx_wrapped]\n",
    "       \n",
    "    expt['obs_with_photocurrents'] = fold_overlapping(obs_flat, prior_context, response_length)\n",
    "    expt['true_photocurrents'] = true_photocurrents\n",
    "    return expt\n",
    "\n",
    "# @partial(jax.jit, static_argnames=('stim_start', \n",
    "#                               'const_baseline',\n",
    "#                                    'decaying_baseline', 'max_iters', 'rank'), backend='cpu')\n",
    "def coordinate_descent_nmu(traces,\n",
    "                           stim_start=100,\n",
    "                           const_baseline=True,\n",
    "                           decaying_baseline=True,\n",
    "                           rank=1,\n",
    "                           update_U=True,\n",
    "                           update_V=True,\n",
    "                           max_iters=100,\n",
    "                           tol=1e-4,\n",
    "                           gamma=0.999):\n",
    "\n",
    "    def _update_factors(i, outer_state):\n",
    "\n",
    "        # unpack outer state\n",
    "        U_photo, V_photo, U_base, V_base, beta, loss = outer_state\n",
    "\n",
    "        # update decaying baseline if active\n",
    "        if decaying_baseline:\n",
    "            resid = traces - U_photo @ V_photo - beta\n",
    "            U_base, V_base, _, _ = _rank_one_nmu_decreasing(resid, (U_base, V_base),\n",
    "                                                             maxiter=500)\n",
    "\n",
    "        # update constant baseline if active\n",
    "        if const_baseline:\n",
    "            beta = jnp.min(traces - U_photo @ V_photo - U_base @ V_base, axis=1, keepdims=True)\n",
    "            beta = jnp.maximum(beta, 0)\n",
    "\n",
    "        # update rank-r approximation of the photocurrent component, \n",
    "        # stored in U_photo and V_photo. Use lax.scan to update each\n",
    "        # rank-one component in turn\n",
    "        def _scan_inner(resid, curr_init_factors):\n",
    "            U_i_init, V_i_init = curr_init_factors\n",
    "            U_i_init = U_i_init[:, None]\n",
    "            V_i_init = V_i_init[None, :]\n",
    "            resid = resid + U_i_init @ V_i_init\n",
    "            U_i, V_i, _, _, = _rank_one_nmu(\n",
    "                resid,\n",
    "                (U_i_init, V_i_init),\n",
    "                update_U=update_U,\n",
    "                update_V=update_V,\n",
    "                baseline=False,\n",
    "            )\n",
    "            resid = resid - U_i @ V_i\n",
    "            return resid, (jnp.squeeze(U_i), jnp.squeeze(V_i))\n",
    "\n",
    "        resid = traces - U_photo @ V_photo - U_base @ V_base - beta\n",
    "        _, (U_photo_T, V_photo) = jax.lax.scan(\n",
    "            _scan_inner,\n",
    "            resid,\n",
    "            (U_photo.T, V_photo),\n",
    "        )\n",
    "        U_photo = U_photo_T.T\n",
    "        loss = loss.at[i].set(\n",
    "            jnp.linalg.norm(traces - U_photo @ V_photo - U_base @ V_base - beta)\n",
    "        )\n",
    "        return U_photo, V_photo, U_base, V_base, beta, loss\n",
    "\n",
    "\n",
    "    \n",
    "    # Initialize U, V, and beta using period before stim for initializing the\n",
    "    # baseline terms\n",
    "    if decaying_baseline:\n",
    "        U_pre, V_pre = _nonnegsvd_init(traces[:, 0:stim_start], rank=1)\n",
    "        V_pre_init = jnp.linalg.lstsq(U_pre, traces)[0]\n",
    "\n",
    "        V_pre = subtractr.pava.pava_decreasing(\n",
    "            jnp.squeeze(V_pre_init), gamma=gamma)[None, :]\n",
    "        \n",
    "    else:\n",
    "        U_pre, V_pre = jnp.zeros((traces.shape[0], 1)), jnp.zeros((1, traces.shape[1]))\n",
    "\n",
    "    U_photo, V_photo = _nonnegsvd_init(\n",
    "        jnp.maximum(traces - U_pre @ V_pre, 0), rank=rank\n",
    "    )\n",
    "    \n",
    "    if const_baseline:\n",
    "        beta = jnp.min(traces - U_pre @ V_pre - U_photo @ V_photo, axis=1, keepdims=True)\n",
    "        beta = jnp.maximum(0, beta)\n",
    "    else:\n",
    "        beta = jnp.zeros((traces.shape[0], 1))\n",
    "\n",
    "    loss = jnp.zeros(max_iters)\n",
    "    outer_state = (U_photo, V_photo, U_pre, V_pre, beta, loss)\n",
    "    outer_state = jax.lax.fori_loop(0, max_iters, _update_factors, outer_state)\n",
    "    U_photo, V_photo, U_pre, V_pre, beta, loss = outer_state\n",
    "\n",
    "    U = jnp.concatenate((U_pre, U_photo), axis=1)\n",
    "    V = jnp.concatenate((V_pre, V_photo), axis=0)\n",
    "\n",
    "    return U, V, beta, loss\n",
    "\n",
    "\n",
    "@partial(jax.jit, static_argnames=('stim_start', 'stim_end', 'dec_start', 'gamma'))\n",
    "def estimate_photocurrents(traces,\n",
    "                               stim_start=100, stim_end=200, dec_start=500, gamma=0.999):\n",
    "    \"\"\"Estimate photocurrents using non-negative matrix underapproximation.\n",
    "\n",
    "    Parameters\n",
    "    ----------\n",
    "    traces : array-like\n",
    "        Traces to estimate photocurrents from. Shape is (n_traces, n_timepoints).\n",
    "    stim_start : int\n",
    "        Index of first timepoint of stimulus.\n",
    "    stim_end : int\n",
    "        Index of last timepoint of stimulus.\n",
    "    constrain_V : bool\n",
    "        If True, constrain the estimated V using the underapprox constraint.\n",
    "    rank : int\n",
    "        Rank of the estimated matrix.\n",
    "\n",
    "    Returns\n",
    "    -------\n",
    "    U : array-like\n",
    "        Estimated U matrix. Shape is (n_traces, rank).\n",
    "    V : array-like\n",
    "        Estimated V matrix. Shape is (rank, n_timepoints).\n",
    "    beta : array-like\n",
    "        Estimated baseline term. Shape is (n_traces, 1).\n",
    "    \"\"\"\n",
    "    cpus = jax.devices('cpu')\n",
    "    gpus = jax.devices('gpu')\n",
    "    \n",
    "    # Create dummy initial factors\n",
    "    # to use SVD initialization inside _rank_one_nmu\n",
    "    traces = jnp.maximum(0, traces)\n",
    "\n",
    "    # Fit 3 terms to the very beginning of the matrix:\n",
    "    # decaying baseline, constant baseline, and photocurrent\n",
    "    U_stim, V_stim, beta, loss = coordinate_descent_nmu(\n",
    "        traces[:,0:stim_end],\n",
    "        const_baseline=True,\n",
    "        decaying_baseline=True,\n",
    "        rank=1,\n",
    "        max_iters=1,\n",
    "    )\n",
    "\n",
    "    \n",
    "    # The first component of U_stim, V_stim corresponds to the decaying baseline\n",
    "    traces = traces - beta\n",
    "    U_dec = U_stim[:,0:1]\n",
    "    V_dec_full_init = jnp.linalg.lstsq(U_dec, traces)[0]\n",
    "    _, V_dec, _, _ = _rank_one_nmu(traces, init_factors=(U_dec, V_dec_full_init),\n",
    "                                  update_U=False, update_V=True)\n",
    "    \n",
    "    # MOVE\n",
    "    U_dec = jax.device_put(U_dec, cpus[0])\n",
    "    V_dec = jax.device_put(V_dec, cpus[0])\n",
    "    traces = jax.device_put(traces, cpus[0])\n",
    "    \n",
    "    _, V_dec, _, _ = _rank_one_nmu_decreasing(traces,\n",
    "                        init_factors=(U_dec, V_dec),\n",
    "                        update_U=False, update_V=True,\n",
    "                        dec_start=0, gamma=gamma, maxiter=500)\n",
    "    \n",
    "    traces = jax.device_put(traces, gpus[0])\n",
    "    \n",
    "    # subtract away decaying baseline\n",
    "    traces = traces - U_dec @ V_dec\n",
    "    \n",
    "    # Now fit photocurrent and output estimate.\n",
    "    # We force our photocurrent estimate to be decreasing after dec_start\n",
    "    U_photo = U_stim[:, 1:2]\n",
    "    V_photo = jnp.linalg.lstsq(U_photo, traces[:, stim_start:])[0]    \n",
    "    _, V_photo, _, _ = _rank_one_nmu(traces[:, stim_start:],\n",
    "                                    init_factors=(U_photo, V_photo),\n",
    "                                    update_U=False, update_V=True)\n",
    "    \n",
    "    # MOVE\n",
    "    U_photo = jax.device_put(U_dec, cpus[0])\n",
    "    V_photo = jax.device_put(V_photo, cpus[0])\n",
    "    traces = jax.device_put(traces, cpus[0])\n",
    "    \n",
    "    _, V_photo, _, _ = _rank_one_nmu_decreasing(traces[:, stim_start:],\n",
    "                        init_factors=(U_photo, V_photo),\n",
    "                        update_U=False, update_V=True, dec_start=dec_start, gamma=gamma,\n",
    "                                               maxiter=500)\n",
    "    \n",
    "    # pad V with zeros to account for the time before stim_start\n",
    "    V_photo = jnp.concatenate((jnp.zeros((1, stim_start)), V_photo), axis=1)\n",
    "    return U_photo, V_photo, U_dec, V_dec, beta\n",
    "\n",
    "def fold_overlapping(trace, prior_context, response_length):\n",
    "    \"\"\"\n",
    "    Split trace into overlapping segments of length response_length.\n",
    "    prior_context determines the amount which is overlapped from the prior trial\n",
    "    \"\"\"\n",
    "    num_samples = trace.shape[0]\n",
    "    isi = int(sampling_freq / stim_freq)\n",
    "    start_indices = np.arange(0, num_samples - response_length + prior_context, isi)\n",
    "\n",
    "    end_indices = start_indices + response_length\n",
    "    return np.array([trace[x:y] for x,y in zip(start_indices, end_indices)])\n",
    "\n",
    "def unfold_to_flat(traces, response_length=900, prior_context=100, stim_freq=30, sampling_freq=20000):\n",
    "    response_length = traces.shape[1]\n",
    "    \n",
    "    next_stim_idx = prior_context + int(sampling_freq / stim_freq)\n",
    "    next_stim_idx = np.minimum(next_stim_idx, response_length-1)\n",
    "    \n",
    "        \n",
    "    # include prior context on first trace, after that we leave it off\n",
    "    flattened = np.concatenate(traces[:, prior_context:next_stim_idx])\n",
    "    flattened = np.concatenate((traces[0, 0:prior_context], flattened, traces[-1,next_stim_idx:]))\n",
    "    \n",
    "    return flattened\n",
    "    \n",
    "    \n",
    "def subtract_overlapping_trials(orig, est,\n",
    "            prior_context=100, stim_freq=30, sampling_freq=20000):\n",
    "    \n",
    "    \n",
    "    # compute stim times based on prior context and response length\n",
    "    num_stims, response_length = orig.shape\n",
    "    \n",
    "    obs_flat = unfold_to_flat(orig, response_length=response_length,\n",
    "                    prior_context=prior_context, stim_freq=stim_freq,\n",
    "                              sampling_freq=sampling_freq)\n",
    "    \n",
    "\n",
    "    isi = int(sampling_freq / stim_freq)\n",
    "    stim_times = np.arange(0, num_stims * isi, isi)\n",
    "   \n",
    "    num_samples = obs_flat.shape[0]\n",
    "    subtracted_flat = obs_flat.copy()\n",
    "    for stim_idx, pc_est in zip(stim_times, est):\n",
    "        end_idx = stim_idx + response_length\n",
    "        \n",
    "        # check whether we're at the end of the trace\n",
    "        if end_idx > num_samples:\n",
    "            est_cutoff = end_idx - num_samples\n",
    "            end_idx = num_samples\n",
    "            subtracted_flat[stim_idx:end_idx] -= pc_est[:est_cutoff]\n",
    "            \n",
    "#             len_remaining = num_samples - stim_idx\n",
    "#             subtracted_flat[stim_idx:] = pc_est[prior_context:prior_context + len_remaining]\n",
    "            continue\n",
    "        else:\n",
    "            subtracted_flat[stim_idx:end_idx] -= pc_est\n",
    "    subtracted = fold_overlapping(subtracted_flat, prior_context, response_length)\n",
    "    return subtracted\n"
   ]
  },
  {
   "cell_type": "markdown",
   "metadata": {},
   "source": [
    "## benchmarking the coordinate descent step\n"
   ]
  },
  {
   "cell_type": "code",
   "execution_count": 18,
   "metadata": {},
   "outputs": [
    {
     "name": "stdout",
     "output_type": "stream",
     "text": [
      "[  100   766  1432  2098  2764  3430  4096  4762  5428  6094  6760  7426\n",
      "  8092  8758  9424 10090 10756 11422 12088 12754 13420 14086 14752 15418\n",
      " 16084 16750 17416 18082 18748 19414 20080 20746 21412 22078 22744 23410\n",
      " 24076 24742 25408 26074 26740 27406 28072 28738 29404 30070 30736 31402\n",
      " 32068 32734 33400 34066 34732 35398 36064 36730 37396 38062 38728 39394\n",
      " 40060 40726 41392 42058 42724 43390 44056 44722 45388 46054 46720 47386\n",
      " 48052 48718 49384 50050 50716 51382 52048 52714 53380 54046 54712 55378\n",
      " 56044 56710]\n",
      "(86, 1800)\n"
     ]
    }
   ],
   "source": [
    "# generate expt\n",
    "key = jax.random.PRNGKey(0)\n",
    "expt = add_photocurrents_to_expt(key, expt, stim_dur_ms=stim_dur_ms,\n",
    "    prior_context=prior_context, response_length=response_length,\n",
    "                                 frac_pc_cells=0.05,\n",
    "                                 pc_window_len_ms=(response_length / sampling_freq * 1e3))"
   ]
  },
  {
   "cell_type": "code",
   "execution_count": 15,
   "metadata": {
    "scrolled": false
   },
   "outputs": [
    {
     "name": "stdout",
     "output_type": "stream",
     "text": [
      "CPU times: user 12.1 s, sys: 3.02 s, total: 15.2 s\n",
      "Wall time: 17.1 s\n"
     ]
    },
    {
     "data": {
      "image/png": "[encoded data removed]",
      "text/plain": [
       "<Figure size 640x480 with 1 Axes>"
      ]
     },
     "metadata": {},
     "output_type": "display_data"
    }
   ],
   "source": [
    "traces = expt['obs_with_photocurrents']\n",
    "%time U, V, beta, loss = coordinate_descent_nmu(traces[:,0:200], rank=1, max_iters=10); U.block_until_ready()\n",
    "plt.plot(loss)\n",
    "plt.show()"
   ]
  },
  {
   "cell_type": "code",
   "execution_count": 35,
   "metadata": {},
   "outputs": [
    {
     "data": {
      "text/plain": [
       "[<matplotlib.lines.Line2D at 0x2b88b63bceb0>,\n",
       " <matplotlib.lines.Line2D at 0x2b88b63e9e40>]"
      ]
     },
     "execution_count": 35,
     "metadata": {},
     "output_type": "execute_result"
    },
    {
     "data": {
      "image/png": "[encoded data removed]",
      "text/plain": [
       "<Figure size 640x480 with 1 Axes>"
      ]
     },
     "metadata": {},
     "output_type": "display_data"
    }
   ],
   "source": [
    "init_test = expt['true_photocurrents'][:, 0:500] + np.random.rand(expt['true_photocurrents'].shape[0])[:, None] * (\n",
    "    expt['true_photocurrents'][:, 600:100:-1])\n",
    "U_init, V_init = _nonnegsvd_init(init_test, rank=2)\n",
    "# plt.plot(V_init.T)\n",
    "# plt.plot(init_test.T)\n",
    "plt.plot(V_init.T, linewidth=3)"
   ]
  },
  {
   "cell_type": "markdown",
   "metadata": {},
   "source": [
    "## Run full subtraction on sim experiment\n"
   ]
  },
  {
   "cell_type": "code",
   "execution_count": 19,
   "metadata": {},
   "outputs": [
    {
     "ename": "ValueError",
     "evalue": "too many values to unpack (expected 4)",
     "output_type": "error",
     "traceback": [
      "\u001b[0;31m---------------------------------------------------------------------------\u001b[0m",
      "\u001b[0;31mValueError\u001b[0m                                Traceback (most recent call last)",
      "Cell \u001b[0;32mIn[19], line 1\u001b[0m\n\u001b[0;32m----> 1\u001b[0m U_photo, V_photo, U_base, V_base \u001b[38;5;241m=\u001b[39m estimate_photocurrents(expt[\u001b[38;5;124m'\u001b[39m\u001b[38;5;124mobs_with_photocurrents\u001b[39m\u001b[38;5;124m'\u001b[39m])\n",
      "\u001b[0;31mValueError\u001b[0m: too many values to unpack (expected 4)"
     ]
    }
   ],
   "source": [
    "U_photo, V_photo, U_base, V_base = estimate_photocurrents(expt['obs_with_photocurrents'])"
   ]
  },
  {
   "cell_type": "code",
   "execution_count": null,
   "metadata": {},
   "outputs": [],
   "source": [
    "subtracted = subtract_overlapping_trials(expt['obs_with_photocurrents'], photo_est,\n",
    "                    prior_context=prior_context, stim_freq=stim_freq,)\n",
    "\n",
    "fig, axs = plt.subplots(1, 4, figsize=(12,3), dpi=200)\n",
    "axs[0].plot(expt['obs_with_photocurrents'].T)\n",
    "axs[1].plot(photo_est.T)\n",
    "axs[2].plot(subtracted.T)\n",
    "axs[3].plot((expt['obs_with_photocurrents'] - photo_est).T)\n",
    "plt.show()"
   ]
  },
  {
   "cell_type": "code",
   "execution_count": null,
   "metadata": {},
   "outputs": [],
   "source": [
    "jax.devices(\"gpu\")"
   ]
  },
  {
   "cell_type": "code",
   "execution_count": null,
   "metadata": {},
   "outputs": [],
   "source": [
    "fig, axs = plt.subplots(1, 2, figsize=(6,3), dpi=200, sharey=True)\n",
    "axs[0].plot(photo_est[:, prior_context:].T)\n",
    "axs[1].plot(expt['true_photocurrents'].T)\n",
    "plt.show()"
   ]
  },
  {
   "cell_type": "markdown",
   "metadata": {},
   "source": [
    "## Comparing previous trial strategies\n",
    "- strategy 1: use overlapping window to subtract next-trial effects\n",
    "- strategy 2: estimate previous trial effects using only a small amount of prior context"
   ]
  },
  {
   "cell_type": "code",
   "execution_count": null,
   "metadata": {},
   "outputs": [],
   "source": [
    "fig, axs = plt.subplots(nrows=2, ncols=4, figsize=(12,3))\n",
    "plot_start = prior_context - 100\n",
    "plot_end = prior_context + 500\n",
    "\n",
    "# For this comparison, we'll most likely see differences between the two strategies\n",
    "# on trials which have a larger transient at the beginning of the trial, so subset to those for now.\n",
    "idxs = np.argsort(\n",
    "    np.sum(\n",
    "        expt['obs_with_photocurrents'][:,0:prior_context],\n",
    "        axis=-1,\n",
    "    )\n",
    ")[::-1]\n",
    "top_idxs = idxs[0:20]\n",
    "\n",
    "axs[0,0].plot(expt['obs_with_photocurrents'][top_idxs,0:plot_end].T)\n",
    "axs[0,0].set_title('Original')\n",
    "\n",
    "axs[0,1].plot(subtracted[top_idxs, plot_start:plot_end].T)\n",
    "axs[0,1].set_title('Overlapping subtraction')\n",
    "\n",
    "single_trial_subtracted = expt['obs_with_photocurrents'] - photo_est - base_est\n",
    "axs[0,2].plot(single_trial_subtracted[top_idxs, plot_start:plot_end].T)\n",
    "axs[0,2].set_title('Single trial subtraction')\n",
    "\n",
    "axs[0,3].plot(expt['obs_responses'][top_idxs,plot_start:plot_end].T)\n",
    "axs[0,3].set_title('Ground truth')\n",
    "\n",
    "# plot results after demixing\n",
    "demixer = NeuralDemixer(path='../../circuit_mapping/demixers/nwd_ee_ChroME1.ckpt')\n",
    "demixed_original = demixer(np.array(expt['obs_with_photocurrents'][:, 0:900]))\n",
    "demixed_overlapping = demixer(np.array(subtracted[:, 0:900]))\n",
    "demixed_singletrial = demixer(np.array(single_trial_subtracted[:, 0:900]))\n",
    "demixed_gt = demixer(np.array(expt['obs_responses'][:, 0:900]))\n",
    "\n",
    "axs[1,0].plot(demixed_original[top_idxs,0:plot_end].T)\n",
    "axs[1,0].set_title('dem. original')\n",
    "\n",
    "axs[1,1].plot(demixed_overlapping[top_idxs, plot_start:plot_end].T)\n",
    "axs[1,1].set_title('dem. overlapping')\n",
    "\n",
    "axs[1,2].plot(demixed_singletrial[top_idxs, plot_start:plot_end].T)\n",
    "axs[1,2].set_title('dem. single trial')\n",
    "\n",
    "axs[1,3].plot(demixed_gt[top_idxs,plot_start:plot_end].T)\n",
    "axs[1,3].set_title('dem. gt')\n",
    "\n",
    "for ax in axs.ravel():\n",
    "    ax.axvline(x=100, linestyle='-.', color='grey')\n",
    "    ax.axvline(x=200, linestyle='-.', color='grey')\n",
    "\n",
    "plt.tight_layout()\n",
    "plt.show()"
   ]
  },
  {
   "cell_type": "code",
   "execution_count": null,
   "metadata": {},
   "outputs": [],
   "source": [
    "plt.plot(photo_est[:, plot_start:plot_end].T)\n",
    "plt.plot(base_est[:,plot_start:plot_end].T)\n",
    "plt.show()"
   ]
  },
  {
   "cell_type": "code",
   "execution_count": null,
   "metadata": {},
   "outputs": [],
   "source": [
    "traces = expt['obs_with_photocurrents']\n",
    "stim_end=200\n",
    "U_stim, V_stim, beta, loss = coordinate_descent_nmu(\n",
    "        traces[:,0:stim_end],\n",
    "        const_baseline=True,\n",
    "        decaying_baseline=True,\n",
    "        rank=1,\n",
    "        max_iters=2,\n",
    "    )\n",
    "plt.plot((U_stim @ V_stim + beta).T)\n",
    "plt.show()"
   ]
  },
  {
   "cell_type": "code",
   "execution_count": null,
   "metadata": {},
   "outputs": [],
   "source": [
    "plt.plot((U_stim[:,0:1] @ V_stim[0:1,:]).T, )\n",
    "plt.plot((U_stim[:,1:2] @ V_stim[1:2,:]).T,)\n",
    "# plt.plot(expt['obs_with_photocurrents'][:,0:200].T, color='blue', alpha=0.4)\n",
    "plt.show()"
   ]
  },
  {
   "cell_type": "code",
   "execution_count": null,
   "metadata": {},
   "outputs": [],
   "source": [
    "plt.plot(expt['obs_with_photocurrents'][:,0:200].T)\n",
    "plt.show()"
   ]
  },
  {
   "cell_type": "code",
   "execution_count": null,
   "metadata": {},
   "outputs": [],
   "source": [
    "plt.plot(loss)"
   ]
  },
  {
   "cell_type": "code",
   "execution_count": null,
   "metadata": {},
   "outputs": [],
   "source": [
    "loss"
   ]
  },
  {
   "cell_type": "code",
   "execution_count": null,
   "metadata": {},
   "outputs": [],
   "source": []
  }
 ],
 "metadata": {
  "kernelspec": {
   "display_name": "Python [conda env:.conda-subtraction]",
   "language": "python",
   "name": "conda-env-.conda-subtraction-py"
  },
  "language_info": {
   "codemirror_mode": {
    "name": "ipython",
    "version": 3
   },
   "file_extension": ".py",
   "mimetype": "text/x-python",
   "name": "python",
   "nbconvert_exporter": "python",
   "pygments_lexer": "ipython3",
   "version": "3.10.9"
  },
  "vscode": {
   "interpreter": {
    "hash": "ab4e1ab1060269dca090b31254e341b82ab4e911e4ea9a6b46e4bad8344ff32a"
   }
  }
 },
 "nbformat": 4,
 "nbformat_minor": 2
}
