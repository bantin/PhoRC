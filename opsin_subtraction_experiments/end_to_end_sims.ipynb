{
 "cells": [
  {
   "cell_type": "code",
   "execution_count": 1,
   "metadata": {},
   "outputs": [],
   "source": [
    "import subtractr\n",
    "import matplotlib.pyplot as plt\n",
    "import numpy as np\n",
    "import circuitmap\n",
    "from circuitmap.simulation import simulate_continuous_experiment\n",
    "import subtractr.photocurrent_sim as pcsim\n",
    "import jax\n"
   ]
  },
  {
   "cell_type": "code",
   "execution_count": 2,
   "metadata": {},
   "outputs": [
    {
     "name": "stderr",
     "output_type": "stream",
     "text": [
      "WARNING:absl:No GPU/TPU found, falling back to CPU. (Set TF_CPP_MIN_LOG_LEVEL=0 and rerun for more info.)\n"
     ]
    },
    {
     "name": "stdout",
     "output_type": "stream",
     "text": [
      "Creating simulation with specifications:\n",
      "Population size 20\n",
      "Hologram targets 10\n",
      "Response window (frames) 900\n",
      "Stimulus frequency (Hz) 10\n",
      "Experiment duration (s) 1.00\n",
      "Sampling frequency (KHz) 20.0\n",
      "Hologram repetitions 1\n",
      "Connection density 0.1\n",
      "Spontaneous PSC rate (Hz) 3\n",
      "Powers [45, 55, 65]\n"
     ]
    }
   ],
   "source": [
    "expt = simulate_continuous_experiment(N=20)"
   ]
  },
  {
   "cell_type": "code",
   "execution_count": 4,
   "metadata": {},
   "outputs": [
    {
     "data": {
      "text/plain": [
       "dict_keys(['pscs', 'obs_responses', 'true_responses', 'stim_matrix', 'weights', 'spike_matrix', 'stim_times'])"
      ]
     },
     "execution_count": 4,
     "metadata": {},
     "output_type": "execute_result"
    }
   ],
   "source": [
    "expt.keys()"
   ]
  },
  {
   "cell_type": "code",
   "execution_count": 26,
   "metadata": {},
   "outputs": [],
   "source": [
    "def add_photocurrents_to_expt(key, expt, pc_shape_params=None, frac_pc_cells=0.1, opsin_mean=0.5, opsin_std=0.2, stim_start=0.0, stim_end=5.0, pc_response_var=0.1):\n",
    "    \"\"\"Add photocurrents to a continuous experiment\"\"\"\n",
    "\n",
    "    N = len(expt['weights'])\n",
    "    pc_cells = np.random.choice(N, int(frac_pc_cells*N), replace=False)\n",
    "    opsin_expression = np.zeros(N)\n",
    "    opsin_expression[pc_cells] = np.random.gamma(shape=(opsin_mean/opsin_std)**2, scale=opsin_std**2/opsin_mean, size=len(pc_cells))\n",
    "\n",
    "\n",
    "    if pc_shape_params is None:\n",
    "        pc_shape_params = dict(\n",
    "            O_inf_min=0.3,\n",
    "                O_inf_max=1.0,\n",
    "                R_inf_min=0.1,\n",
    "                R_inf_max=1.0,\n",
    "                tau_o_min=3,\n",
    "                tau_o_max=30,\n",
    "                tau_r_min=3,\n",
    "                tau_r_max=30, \n",
    "            )\n",
    "\n",
    "    pc_full_params = dict(\n",
    "        onset_jitter_ms=1.0,\n",
    "        onset_latency_ms=0.0,\n",
    "        pc_shape_params=pc_shape_params,\n",
    "        add_target_gp=False,\n",
    "        target_gp_lengthscale=20,\n",
    "        target_gp_scale=0.01,\n",
    "        linear_onset_frac=1.0,\n",
    "        msecs_per_sample=0.05,\n",
    "        stim_start=0.0,\n",
    "        stim_end=5.0,\n",
    "        isi_ms=30,\n",
    "        window_len_ms=200,\n",
    "    )\n",
    "\n",
    "    pscs = np.array(expt['pscs'])\n",
    "    num_stims = len(expt['stim_times'])\n",
    "    jittered_pc_shapes = pcsim.sample_jittered_photocurrent_shapes(key, num_stims, **pc_full_params)[1]\n",
    "    i = 0\n",
    "    for cell_idx in pc_cells:\n",
    "        stims_this_cell = np.where(expt['stim_matrix'][cell_idx, :])[0]\n",
    "        stim_times_this_cell = expt['stim_times'][stims_this_cell]\n",
    "\n",
    "        # assign random pc amplitudes centered around opsin expression\n",
    "        pc_amplitudes = np.sqrt(0.1) * np.random.randn(len(stims_this_cell)) + opsin_expression[cell_idx]\n",
    "        pc_amplitudes = np.maximum(pc_amplitudes, 0.0)\n",
    "\n",
    "        for j, st in enumerate(stim_times_this_cell):\n",
    "            pscs[st:st+jittered_pc_shapes.shape[1]] += jittered_pc_shapes[i] * pc_amplitudes[j]\n",
    "            i += 1\n",
    "\n",
    "    plt.plot(pscs)\n"
   ]
  },
  {
   "cell_type": "code",
   "execution_count": 28,
   "metadata": {},
   "outputs": [
    {
     "name": "stdout",
     "output_type": "stream",
     "text": [
      "(8, 4000)\n",
      "(4,)\n",
      "4200\n",
      "(8, 4000)\n",
      "(4,)\n",
      "8200\n",
      "(8, 4000)\n",
      "(4,)\n",
      "12200\n",
      "(8, 4000)\n",
      "(4,)\n",
      "14200\n",
      "(8, 4000)\n",
      "(4,)\n",
      "2200\n",
      "(8, 4000)\n",
      "(4,)\n",
      "4200\n",
      "(8, 4000)\n",
      "(4,)\n",
      "12200\n",
      "(8, 4000)\n",
      "(4,)\n",
      "14200\n",
      "(8, 4000)\n",
      "(4,)\n",
      "2200\n",
      "(8, 4000)\n",
      "(4,)\n",
      "4200\n",
      "(8, 4000)\n",
      "(4,)\n",
      "12200\n",
      "(8, 4000)\n",
      "(4,)\n",
      "14200\n",
      "(8, 4000)\n",
      "(4,)\n",
      "6200\n",
      "(8, 4000)\n",
      "(4,)\n",
      "8200\n",
      "(8, 4000)\n",
      "(4,)\n",
      "10200\n",
      "(8, 4000)\n",
      "(4,)\n",
      "16200\n",
      "(8, 4000)\n",
      "(4,)\n",
      "2200\n",
      "(8, 4000)\n",
      "(4,)\n",
      "6200\n",
      "(8, 4000)\n",
      "(4,)\n",
      "10200\n",
      "(8, 4000)\n",
      "(4,)\n",
      "16200\n",
      "(8, 4000)\n",
      "(4,)\n",
      "6200\n",
      "(8, 4000)\n",
      "(4,)\n",
      "8200\n",
      "(8, 4000)\n",
      "(4,)\n",
      "10200\n",
      "(8, 4000)\n",
      "(4,)\n",
      "16200\n",
      "(8, 4000)\n",
      "(4,)\n",
      "2200\n",
      "(8, 4000)\n",
      "(4,)\n",
      "4200\n",
      "(8, 4000)\n",
      "(4,)\n",
      "12200\n",
      "(8, 4000)\n",
      "(4,)\n",
      "14200\n",
      "(8, 4000)\n",
      "(4,)\n",
      "2200\n",
      "(8, 4000)\n",
      "(4,)\n",
      "6200\n",
      "(8, 4000)\n",
      "(4,)\n",
      "10200\n",
      "(8, 4000)\n",
      "(4,)\n",
      "16200\n",
      "(8, 4000)\n",
      "(4,)\n",
      "4200\n",
      "(8, 4000)\n",
      "(4,)\n",
      "8200\n",
      "(8, 4000)\n",
      "(4,)\n",
      "12200\n",
      "(8, 4000)\n",
      "(4,)\n",
      "14200\n",
      "(8, 4000)\n",
      "(4,)\n",
      "6200\n",
      "(8, 4000)\n",
      "(4,)\n",
      "8200\n",
      "(8, 4000)\n",
      "(4,)\n",
      "10200\n",
      "(8, 4000)\n",
      "(4,)\n",
      "16200\n"
     ]
    },
    {
     "data": {
      "image/png": "[encoded data removed]",
      "text/plain": [
       "<Figure size 432x288 with 1 Axes>"
      ]
     },
     "metadata": {
      "needs_background": "light"
     },
     "output_type": "display_data"
    }
   ],
   "source": [
    "key = jax.random.PRNGKey(1)\n",
    "add_photocurrents_to_expt(key, expt, frac_pc_cells=0.5, opsin_mean=0.1, opsin_std=0.1)"
   ]
  },
  {
   "cell_type": "code",
   "execution_count": 6,
   "metadata": {},
   "outputs": [
    {
     "data": {
      "text/plain": [
       "array([ 2000,  4000,  6000,  8000, 10000, 12000, 14000, 16000])"
      ]
     },
     "execution_count": 6,
     "metadata": {},
     "output_type": "execute_result"
    }
   ],
   "source": [
    "expt['stim_times']"
   ]
  },
  {
   "cell_type": "code",
   "execution_count": 29,
   "metadata": {},
   "outputs": [
    {
     "data": {
      "text/plain": [
       "dict_keys(['pscs', 'obs_responses', 'true_responses', 'stim_matrix', 'weights', 'spike_matrix'])"
      ]
     },
     "execution_count": 29,
     "metadata": {},
     "output_type": "execute_result"
    }
   ],
   "source": [
    "expt.keys()"
   ]
  },
  {
   "cell_type": "code",
   "execution_count": null,
   "metadata": {},
   "outputs": [],
   "source": []
  }
 ],
 "metadata": {
  "kernelspec": {
   "display_name": "circuitmap",
   "language": "python",
   "name": "python3"
  },
  "language_info": {
   "codemirror_mode": {
    "name": "ipython",
    "version": 3
   },
   "file_extension": ".py",
   "mimetype": "text/x-python",
   "name": "python",
   "nbconvert_exporter": "python",
   "pygments_lexer": "ipython3",
   "version": "3.9.12"
  },
  "orig_nbformat": 4,
  "vscode": {
   "interpreter": {
    "hash": "ab4e1ab1060269dca090b31254e341b82ab4e911e4ea9a6b46e4bad8344ff32a"
   }
  }
 },
 "nbformat": 4,
 "nbformat_minor": 2
}
